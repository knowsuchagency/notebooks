{
 "cells": [
  {
   "cell_type": "code",
   "execution_count": 1,
   "metadata": {
    "collapsed": true
   },
   "outputs": [],
   "source": [
    "from boltons.iterutils import chunked"
   ]
  },
  {
   "cell_type": "code",
   "execution_count": 3,
   "metadata": {
    "collapsed": true
   },
   "outputs": [],
   "source": [
    "string = \"\"\"\n",
    "Create two integer variables named x and y\n",
    "Create an int pointer named p1\n",
    "Store the address of x in p1\n",
    "Use p1 to set the value of x to 99\n",
    "Using cout and x, display the value of x\n",
    "Using cout and the pointer p1, display the value of x\n",
    "Store the address of y into p1\n",
    "Use p1 to set the value of y to -300\n",
    "Create two new variables: an int named temp, and an int pointer named p2\n",
    "Use temp, p1, and p2 to swap the values in x and y (this will take a few statements)\n",
    "Write a function with the following signature: void noNegatives(int *x). The function should accept the address of an int variable. If the value of this integer is negative then it should set it to zero\n",
    "Invoke the function twice: once with the address of x as the argument, and once with the address of y\n",
    "Use p2 to display the values in x and y (this will require both assignment statements and cout statements)\n",
    "Create an int array with two elements. The array should be named ‘a’\n",
    "Use p2 to initialize the first element of a with the value of x\n",
    "Use p2 to initialize the second element of a with the value of y\n",
    "Using cout, display the address of the first element in a\n",
    "Using cout display the address of the second element in a\n",
    "Use p1, p2, and temp to swap the values in the two elements of array ‘a’. (first point p1 at a[0], then point p2 at a[1]. After this the swapping steps should look very similar to step 10.)\n",
    "Display the values of the two elements. (The first element should be 99, the second 0).\n",
    "Write a function named ‘swap’ that accepts two integer pointers as arguments, and then swaps the two integers that the pointers point to.  This function must be pass by pointer, i.e. int *, not pass by reference, i.e. int &.\n",
    "Invoke your swap function with the addresses of x and y, then print their values. (x should be 99, y should be 0).\n",
    "Invoke your swap function with the address of the two elements in array ‘a’, then print their values. (a[0] should be 0, a[1] should be 99)\n",
    "\"\"\""
   ]
  },
  {
   "cell_type": "code",
   "execution_count": 18,
   "metadata": {
    "collapsed": false
   },
   "outputs": [
    {
     "name": "stdout",
     "output_type": "stream",
     "text": [
      "// 1 Create two integer variables named x and y\n",
      "// 2 Create an int pointer named p1\n",
      "// 3 Store the address of x in p1\n",
      "// 4 Use p1 to set the value of x to 99\n",
      "// 5 Using cout and x, display the value of x\n",
      "// 6 Using cout and the pointer p1, display the value of x\n",
      "// 7 Store the address of y into p1\n",
      "// 8 Use p1 to set the value of y to -300\n",
      "// 9 Create two new variables: an int named temp, and an int pointer named p2\n",
      "// 10 Use temp, p1, and p2 to swap the values in x and y (this will take a few stateme\n",
      "// nts)\n",
      "// 11 Write a function with the following signature: void noNegatives(int *x). The fun\n",
      "// ction should accept the address of an int variable. If the value of this integer\n",
      "//  is negative then it should set it to zero\n",
      "// 12 Invoke the function twice: once with the address of x as the argument, and once \n",
      "// with the address of y\n",
      "// 13 Use p2 to display the values in x and y (this will require both assignment state\n",
      "// ments and cout statements)\n",
      "// 14 Create an int array with two elements. The array should be named ‘a’\n",
      "// 15 Use p2 to initialize the first element of a with the value of x\n",
      "// 16 Use p2 to initialize the second element of a with the value of y\n",
      "// 17 Using cout, display the address of the first element in a\n",
      "// 18 Using cout display the address of the second element in a\n",
      "// 19 Use p1, p2, and temp to swap the values in the two elements of array ‘a’. (first\n",
      "//  point p1 at a[0], then point p2 at a[1]. After this the swapping steps should l\n",
      "// ook very similar to step 10.)\n",
      "// 20 Display the values of the two elements. (The first element should be 99, the sec\n",
      "// ond 0).\n",
      "// 21 Write a function named ‘swap’ that accepts two integer pointers as arguments, an\n",
      "// d then swaps the two integers that the pointers point to.  This function must be\n",
      "//  pass by pointer, i.e. int *, not pass by reference, i.e. int &.\n",
      "// 22 Invoke your swap function with the addresses of x and y, then print their values\n",
      "// . (x should be 99, y should be 0).\n",
      "// 23 Invoke your swap function with the address of the two elements in array ‘a’, the\n",
      "// n print their values. (a[0] should be 0, a[1] should be 99)\n"
     ]
    }
   ],
   "source": [
    "for n, line in enumerate(filter(bool, string.splitlines())):\n",
    "    newline = chunked(line, 80)\n",
    "    print(r'// ' + str(n+1) + ' ' + '\\n// '.join(newline))\n",
    "        \n",
    "    \n",
    "        "
   ]
  },
  {
   "cell_type": "code",
   "execution_count": null,
   "metadata": {
    "collapsed": true
   },
   "outputs": [],
   "source": []
  }
 ],
 "metadata": {
  "kernelspec": {
   "display_name": "Python 3",
   "language": "python",
   "name": "python3"
  },
  "language_info": {
   "codemirror_mode": {
    "name": "ipython",
    "version": 3
   },
   "file_extension": ".py",
   "mimetype": "text/x-python",
   "name": "python",
   "nbconvert_exporter": "python",
   "pygments_lexer": "ipython3",
   "version": "3.5.1"
  }
 },
 "nbformat": 4,
 "nbformat_minor": 1
}
