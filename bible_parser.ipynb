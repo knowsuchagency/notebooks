{
 "cells": [
  {
   "cell_type": "code",
   "execution_count": 45,
   "metadata": {
    "collapsed": false,
    "deletable": true,
    "editable": true
   },
   "outputs": [],
   "source": [
    "from collections import namedtuple\n",
    "from flatdict import FlatDict\n",
    "import json\n",
    "\n",
    "def replacew(item):\n",
    "    \"\"\"\n",
    "    Replace whitespace with dashes in keys and flatten nested dictionary.\n",
    "    \"\"\"\n",
    "    return {k.replace(' ', '-'):replacew(v)\n",
    "            if isinstance(v, dict)\n",
    "            else v\n",
    "            for k, v in item.items()}\n",
    "\n",
    "class Bible(FlatDict):\n",
    "    \n",
    "    def __init__(self, *args, **kwargs):\n",
    "        super().__init__(*args, **kwargs)\n",
    "        self._versions = set()\n",
    "        self._books = set()\n",
    "        self._chapters = set()\n",
    "        self._verses = {} # a dictionary of bible verses\n",
    "        # Key we can use to look up bible verses later on\n",
    "        Key = namedtuple('Key', ['version', 'book', 'chapter', 'verse'])\n",
    "        for key in self.keys():\n",
    "                splitkey = key.split(':')\n",
    "                if len(splitkey) > 3:\n",
    "                    version, book, chapter, verse = splitkey\n",
    "                    chapter = int(chapter)\n",
    "                    verse = int(verse)\n",
    "                    text = self[key]\n",
    "                    chapter_nt = Bible.Chapter(book, chapter)\n",
    "                    self._versions.add(version)\n",
    "                    self._books.add(book)\n",
    "                    self._chapters.add(chapter_nt)\n",
    "                    self._verses[Key(version, book, chapter, verse)] = \\\n",
    "                        Bible.Verse(version, book, chapter, verse, text)\n",
    "        \n",
    "    Chapter = namedtuple('Chapter', ['book', 'chapter'])\n",
    "    Verse = namedtuple('Verse', ['version', 'book', 'chapter', 'verse', 'text'])\n",
    "    \n",
    "    @property\n",
    "    def versions(self):\n",
    "        \"\"\"\n",
    "        Return a list of bible versions.\n",
    "        \"\"\"\n",
    "        return list(self._versions)\n",
    "    \n",
    "    @property\n",
    "    def books(self):\n",
    "        \"\"\"\n",
    "        Return a list of books.\n",
    "        \"\"\"\n",
    "        return list(self._books)\n",
    "    \n",
    "    @property\n",
    "    def chapters(self):\n",
    "        \"\"\"\n",
    "        Return a list of chapter namedtuples, each with 'book' and 'chapter' fields.\n",
    "        \"\"\"\n",
    "        return list(self._chapters)\n",
    "    \n",
    "    def __repr__(self):\n",
    "        return \"Bible(versions={versions})\".format(versions=self.versions)\n",
    "    \n",
    "    def __str__(self):\n",
    "        return self.__repr__()\n",
    "    \n",
    "        \n",
    "    def get_verse(self, book, chapter, verse, version='NIV'):\n",
    "        \"\"\"\n",
    "        Return the text for a verse based on the bible version, book, chapter, and verse number.\n",
    "        The version will default to the new international version if not specified.\n",
    "        \n",
    "        i.e. bible.get_verse('Jeremiah', 51, 6) -> '\"Flee from Babylon! Run for your lives! ...'\n",
    "        \"\"\"\n",
    "        lookup = self._verses.get((version, book, chapter, verse))\n",
    "        return lookup.text if lookup is not None else lookup"
   ]
  },
  {
   "cell_type": "code",
   "execution_count": 46,
   "metadata": {
    "collapsed": true,
    "deletable": true,
    "editable": true
   },
   "outputs": [],
   "source": [
    "if __name__ == \"__main__\":\n",
    "    versions = ('NIV', 'MSG', 'NLT')\n",
    "    path = \"/Users/stephanfitzpatrick/git/bibles/{version}/{version}.json\"\n",
    "    paths = [path.format(version=version) for version in versions]\n",
    "    dictionary = {}\n",
    "    for p, v in zip(paths, versions):\n",
    "        with open(p) as foo:\n",
    "            # remove whitespace from dictionary keys\n",
    "            data = replacew(json.load(foo))\n",
    "            # make the bible version the top-level key in the dictionary\n",
    "            data = {v:data}\n",
    "            dictionary.update(data)\n",
    "    bible = Bible(dictionary)"
   ]
  },
  {
   "cell_type": "code",
   "execution_count": 47,
   "metadata": {
    "collapsed": false,
    "deletable": true,
    "editable": true,
    "scrolled": true
   },
   "outputs": [
    {
     "data": {
      "text/plain": [
       "['Deuteronomy', 'Ruth', 'Nahum', 'Joel', 'Daniel']"
      ]
     },
     "execution_count": 47,
     "metadata": {},
     "output_type": "execute_result"
    }
   ],
   "source": [
    "bible.books[:5]"
   ]
  },
  {
   "cell_type": "code",
   "execution_count": 48,
   "metadata": {
    "collapsed": false,
    "deletable": true,
    "editable": true
   },
   "outputs": [
    {
     "data": {
      "text/plain": [
       "[Chapter(book='Ecclesiastes', chapter=1),\n",
       " Chapter(book='1-Samuel', chapter=20),\n",
       " Chapter(book='Proverbs', chapter=11),\n",
       " Chapter(book='Daniel', chapter=11),\n",
       " Chapter(book='Jeremiah', chapter=15)]"
      ]
     },
     "execution_count": 48,
     "metadata": {},
     "output_type": "execute_result"
    }
   ],
   "source": [
    "bible.chapters[:5]"
   ]
  },
  {
   "cell_type": "code",
   "execution_count": 49,
   "metadata": {
    "collapsed": false,
    "deletable": true,
    "editable": true
   },
   "outputs": [
    {
     "data": {
      "text/plain": [
       "'I will declare that your love stands firm forever, that you established your faithfulness in heaven itself.'"
      ]
     },
     "execution_count": 49,
     "metadata": {},
     "output_type": "execute_result"
    }
   ],
   "source": [
    "bible.get_verse('Psalms', 89, 2)"
   ]
  },
  {
   "cell_type": "code",
   "execution_count": 50,
   "metadata": {
    "collapsed": false,
    "deletable": true,
    "editable": true
   },
   "outputs": [
    {
     "data": {
      "text/plain": [
       "['NIV', 'MSG', 'NLT']"
      ]
     },
     "execution_count": 50,
     "metadata": {},
     "output_type": "execute_result"
    }
   ],
   "source": [
    "bible.versions"
   ]
  },
  {
   "cell_type": "code",
   "execution_count": 51,
   "metadata": {
    "collapsed": false,
    "deletable": true,
    "editable": true
   },
   "outputs": [
    {
     "data": {
      "text/plain": [
       "['Deuteronomy:27:16',\n",
       " 'Deuteronomy:27:12',\n",
       " 'Deuteronomy:27:22',\n",
       " 'Deuteronomy:27:2',\n",
       " 'Deuteronomy:27:13']"
      ]
     },
     "execution_count": 51,
     "metadata": {},
     "output_type": "execute_result"
    }
   ],
   "source": [
    "list(bible.get('MSG').keys())[:5]"
   ]
  },
  {
   "cell_type": "code",
   "execution_count": null,
   "metadata": {
    "collapsed": true,
    "deletable": true,
    "editable": true
   },
   "outputs": [],
   "source": []
  }
 ],
 "metadata": {
  "hide_input": false,
  "kernelspec": {
   "display_name": "Python 3",
   "language": "python",
   "name": "python3"
  },
  "language_info": {
   "codemirror_mode": {
    "name": "ipython",
    "version": 3
   },
   "file_extension": ".py",
   "mimetype": "text/x-python",
   "name": "python",
   "nbconvert_exporter": "python",
   "pygments_lexer": "ipython3",
   "version": "3.6.0"
  }
 },
 "nbformat": 4,
 "nbformat_minor": 0
}
