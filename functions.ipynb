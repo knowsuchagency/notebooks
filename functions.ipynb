{
 "cells": [
  {
   "cell_type": "code",
   "execution_count": null,
   "metadata": {
    "collapsed": false
   },
   "outputs": [],
   "source": [
    "import functools\n",
    "import itertools\n",
    "import collections\n",
    "import time"
   ]
  },
  {
   "cell_type": "code",
   "execution_count": null,
   "metadata": {
    "collapsed": false,
    "scrolled": false
   },
   "outputs": [],
   "source": [
    "def memoize(func):\n",
    "    \"\"\"Memoize recursive functions.\"\"\"\n",
    "    memo = {}\n",
    "    def wrapped(*args):\n",
    "        # args = tuple(str(arg) for arg in args)\n",
    "        if args not in memo:\n",
    "            memo[args] = func(*args)\n",
    "        return memo[args]\n",
    "    return wrapped\n",
    "\n",
    "@memoize\n",
    "def fib(n):\n",
    "    \"\"\"A basic implementation of the the fibonacci sequence.\"\"\"\n",
    "    print(n)\n",
    "    if n < 2:\n",
    "        return n\n",
    "    return fib(n-1) + fib(n-2)\n",
    "\n",
    "\n",
    "def digits(n):\n",
    "    \"\"\"Yield digits in a decimal number.\"\"\"\n",
    "    while n:\n",
    "        mod = n % 10\n",
    "        yield mod\n",
    "        n = n // 10\n",
    "\n",
    "\n",
    "def sum_squares(n):\n",
    "    \"\"\"Return the sum of the square of all the digits in an integer.\"\"\"\n",
    "    return sum(n**2 for n in digits(n))\n",
    "\n",
    "\n",
    "def gen(x, f=sum_squares, sentinel_values={1, 89}):\n",
    "    \"\"\"\n",
    "    Compute a sequence of values using function f \n",
    "    until a sentinel value is reached.\n",
    "    \"\"\"\n",
    "    if x in sentinel_values:\n",
    "        return [x]\n",
    "    else:\n",
    "        return [x] + gen(f(x), f, sentinel_values)\n",
    "\n",
    "def gen2(x, f=sum_squares, sentinel_values={1, 89}):\n",
    "    \"\"\"\n",
    "    Yield the next value in the recursive sequence\n",
    "    until a sentinel value is reached.\n",
    "    \"\"\"\n",
    "    if x in sentinel_values:\n",
    "        yield x\n",
    "    else:\n",
    "        yield x\n",
    "        yield from gen2(f(x), f, sentinel_values)\n",
    "        \n",
    "def triangle_number(n):\n",
    "    \"\"\"\n",
    "    Return the nth triangle number.\n",
    "    This could also be implemented by returning (n**2+n)/2\n",
    "    \"\"\"\n",
    "    if n == 1:\n",
    "        return n\n",
    "    else:\n",
    "        return n + triangle_number(n-1)\n",
    "\n",
    "def factorial(n):\n",
    "    \"\"\"Return the factorial of a number n.\"\"\"\n",
    "    if n == 1:\n",
    "        return n\n",
    "    else:\n",
    "        return n * factorial(n-1)\n",
    "    \n",
    "def sum_(seq):\n",
    "    \"\"\"Recursively sum the values in a sequence.\"\"\"\n",
    "    if len(seq) == 0: \n",
    "        return 0\n",
    "    else:\n",
    "        return seq[0] + sum_(seq[1:])\n",
    "    \n",
    "    \n",
    "def euler_92():\n",
    "    \"\"\"\n",
    "    Solution to project euler 92.\n",
    "    It is painfully slow in its current implementation.\n",
    "    \"\"\"\n",
    "    start = time.time()\n",
    "    ones = {1}\n",
    "    eighty_nines = {89}\n",
    "    eighty_nines_count = 1\n",
    "    skipped = 0\n",
    "    for i in range(1, 100000):\n",
    "        if i in eighty_nines or i in ones:\n",
    "            skipped += 1\n",
    "            continue\n",
    "        temp = []\n",
    "        for x in gen(i):\n",
    "            temp.append(x)\n",
    "            if x in ones:\n",
    "                ones.update(temp)\n",
    "                break\n",
    "            elif x in eighty_nines:\n",
    "                eighty_nines.update(temp)\n",
    "                eighty_nines_count += len(temp)\n",
    "                break\n",
    "    print('ones', len(ones))\n",
    "    print('eighty nines', len(eighty_nines))\n",
    "    print('eighty nines count', eighty_nines_count)\n",
    "    print('skipped', skipped)\n",
    "    print('elapsed', time.time() - start)"
   ]
  },
  {
   "cell_type": "code",
   "execution_count": null,
   "metadata": {
    "collapsed": false,
    "scrolled": true
   },
   "outputs": [],
   "source": [
    "if __name__ == '__main__':\n",
    "    euler_92()"
   ]
  },
  {
   "cell_type": "code",
   "execution_count": null,
   "metadata": {
    "collapsed": true
   },
   "outputs": [],
   "source": [
    "def digits(n):\n",
    "    \"\"\"Yield digits in a decimal number.\"\"\"\n",
    "    while n:\n",
    "        mod = n % 10\n",
    "        yield mod\n",
    "        n = n // 10\n",
    "\n",
    "\n",
    "def sum_squares(n):\n",
    "    \"\"\"Return the sum of the square of all the digits in an integer.\"\"\"\n",
    "    return sum(n**2 for n in digits(n))"
   ]
  },
  {
   "cell_type": "code",
   "execution_count": null,
   "metadata": {
    "collapsed": false
   },
   "outputs": [],
   "source": [
    "sum_squares(32)"
   ]
  },
  {
   "cell_type": "code",
   "execution_count": null,
   "metadata": {
    "collapsed": false
   },
   "outputs": [],
   "source": [
    "def countdown(n, flag=False):\n",
    "    if not flag:\n",
    "        return countdown(n-1, flag=True)\n",
    "    elif not n:\n",
    "        return [n]\n",
    "    else:\n",
    "        return [n] + countdown(n-1)\n",
    "    \n",
    "countdown(10)"
   ]
  },
  {
   "cell_type": "code",
   "execution_count": null,
   "metadata": {
    "collapsed": true
   },
   "outputs": [],
   "source": []
  }
 ],
 "metadata": {
  "kernelspec": {
   "display_name": "Python 3",
   "language": "python",
   "name": "python3"
  },
  "language_info": {
   "codemirror_mode": {
    "name": "ipython",
    "version": 3
   },
   "file_extension": ".py",
   "mimetype": "text/x-python",
   "name": "python",
   "nbconvert_exporter": "python",
   "pygments_lexer": "ipython3",
   "version": "3.4.3"
  }
 },
 "nbformat": 4,
 "nbformat_minor": 0
}
