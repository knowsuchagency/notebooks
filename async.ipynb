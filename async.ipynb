{
 "cells": [
  {
   "cell_type": "code",
   "execution_count": 1,
   "metadata": {
    "ExecuteTime": {
     "end_time": "2017-01-24T10:37:26.096990",
     "start_time": "2017-01-24T10:37:24.634825"
    },
    "collapsed": false
   },
   "outputs": [
    {
     "name": "stdout",
     "output_type": "stream",
     "text": [
      "url: https://www.google.com\n",
      "status: 200\n",
      "url: https://www.yahoo.com\n",
      "status: 200\n",
      "url: https://www.bing.com\n",
      "status: 200\n",
      "url: https://www.baidu.com\n",
      "status: 200\n",
      "url: https://duckduckgo.com\n",
      "status: 200\n"
     ]
    }
   ],
   "source": [
    "import paco\n",
    "import aiohttp\n",
    "import asyncio\n",
    "\n",
    "async def fetch(url):\n",
    "    async with aiohttp.ClientSession() as session:\n",
    "        async with session.get(url) as res:\n",
    "            return res\n",
    "\n",
    "async def fetch_urls():\n",
    "    urls = [\n",
    "        'https://www.google.com',\n",
    "        'https://www.yahoo.com',\n",
    "        'https://www.bing.com',\n",
    "        'https://www.baidu.com',\n",
    "        'https://duckduckgo.com',\n",
    "    ]\n",
    "\n",
    "    # Map concurrent executor with concurrent limit of 3\n",
    "    responses = await paco.map(fetch, urls, limit=3)\n",
    "\n",
    "    for res in responses:\n",
    "        print('url:', res.url_obj)\n",
    "        print('status:', res.status)\n",
    "    \n",
    "    return responses\n",
    "\n",
    "# Run in event loop\n",
    "results = paco.run(fetch_urls())"
   ]
  },
  {
   "cell_type": "code",
   "execution_count": 2,
   "metadata": {
    "ExecuteTime": {
     "end_time": "2017-01-24T10:37:26.165260",
     "start_time": "2017-01-24T10:37:26.099818"
    },
    "collapsed": false
   },
   "outputs": [
    {
     "name": "stdout",
     "output_type": "stream",
     "text": [
      "42\n",
      "84\n"
     ]
    }
   ],
   "source": [
    "def bottom():\n",
    "    # Returning the yield lets the value that goes up the call stack to come right back\n",
    "    # down.\n",
    "    return (yield 42)\n",
    "\n",
    "def middle():\n",
    "    return (yield from bottom())\n",
    "\n",
    "def top():\n",
    "    return (yield from middle())\n",
    "\n",
    "# Get the generator.\n",
    "gen = top()\n",
    "value = next(gen)\n",
    "print(value)  # Prints '42'.\n",
    "try:\n",
    "    value = gen.send(value * 2)\n",
    "except StopIteration as exc:\n",
    "    value = exc.value\n",
    "print(value)  # Prints '84'.\n"
   ]
  },
  {
   "cell_type": "code",
   "execution_count": 3,
   "metadata": {
    "ExecuteTime": {
     "end_time": "2017-01-24T10:37:29.236052",
     "start_time": "2017-01-24T10:37:26.169461"
    },
    "collapsed": false
   },
   "outputs": [
    {
     "name": "stdout",
     "output_type": "stream",
     "text": [
      "T-minus 2 (A)\n",
      "T-minus 3 (B)\n",
      "T-minus 1 (A)\n",
      "T-minus 2 (B)\n",
      "T-minus 1 (B)\n"
     ]
    }
   ],
   "source": [
    "import asyncio\n",
    "\n",
    "# Borrowed from http://curio.readthedocs.org/en/latest/tutorial.html.\n",
    "@asyncio.coroutine\n",
    "def countdown(number, n):\n",
    "    while n > 0:\n",
    "        print('T-minus', n, '({})'.format(number))\n",
    "        yield from asyncio.sleep(1)\n",
    "        n -= 1\n",
    "\n",
    "loop = asyncio.get_event_loop()\n",
    "tasks = [\n",
    "    asyncio.ensure_future(countdown(\"A\", 2)),\n",
    "    asyncio.ensure_future(countdown(\"B\", 3))]\n",
    "loop.run_until_complete(asyncio.wait(tasks))\n",
    "loop.close()\n"
   ]
  },
  {
   "cell_type": "code",
   "execution_count": 4,
   "metadata": {
    "ExecuteTime": {
     "end_time": "2017-01-24T10:37:34.413442",
     "start_time": "2017-01-24T10:37:29.239027"
    },
    "collapsed": false
   },
   "outputs": [
    {
     "name": "stdout",
     "output_type": "stream",
     "text": [
      "A waiting 0 seconds before starting countdown\n",
      "B waiting 2 seconds before starting countdown\n",
      "C waiting 1 seconds before starting countdown\n",
      "A starting after waiting 0:00:00.001886\n",
      "A T-minus 5\n",
      "C starting after waiting 0:00:01.000984\n",
      "C T-minus 4\n",
      "A T-minus 4\n",
      "B starting after waiting 0:00:02.001621\n",
      "B T-minus 3\n",
      "C T-minus 3\n",
      "A T-minus 3\n",
      "B T-minus 2\n",
      "C T-minus 2\n",
      "A T-minus 2\n",
      "B T-minus 1\n",
      "C T-minus 1\n",
      "A T-minus 1\n",
      "B lift-off!\n",
      "C lift-off!\n",
      "A lift-off!\n",
      "Total elapsed time is 0:00:05.015646\n"
     ]
    }
   ],
   "source": [
    "import datetime\n",
    "import heapq\n",
    "import types\n",
    "import time\n",
    "\n",
    "\n",
    "class Task:\n",
    "\n",
    "    \"\"\"Represent how long a coroutine should wait before starting again.\n",
    "\n",
    "    Comparison operators are implemented for use by heapq. Two-item\n",
    "    tuples unfortunately don't work because when the datetime.datetime\n",
    "    instances are equal, comparison falls to the coroutine and they don't\n",
    "    implement comparison methods, triggering an exception.\n",
    "\n",
    "    Think of this as being like asyncio.Task/curio.Task.\n",
    "    \"\"\"\n",
    "\n",
    "    def __init__(self, wait_until, coro):\n",
    "        self.coro = coro\n",
    "        self.waiting_until = wait_until\n",
    "\n",
    "    def __eq__(self, other):\n",
    "        return self.waiting_until == other.waiting_until\n",
    "\n",
    "    def __lt__(self, other):\n",
    "        return self.waiting_until < other.waiting_until\n",
    "\n",
    "\n",
    "class SleepingLoop:\n",
    "\n",
    "    \"\"\"An event loop focused on delaying execution of coroutines.\n",
    "\n",
    "    Think of this as being like asyncio.BaseEventLoop/curio.Kernel.\n",
    "    \"\"\"\n",
    "\n",
    "    def __init__(self, *coros):\n",
    "        self._new = coros\n",
    "        self._waiting = []\n",
    "\n",
    "    def run_until_complete(self):\n",
    "        # Start all the coroutines.\n",
    "        for coro in self._new:\n",
    "            wait_for = coro.send(None)\n",
    "            heapq.heappush(self._waiting, Task(wait_for, coro))\n",
    "        # Keep running until there is no more work to do.\n",
    "        while self._waiting:\n",
    "            now = datetime.datetime.now()\n",
    "            # Get the coroutine with the soonest resumption time.\n",
    "            task = heapq.heappop(self._waiting)\n",
    "            if now < task.waiting_until:\n",
    "                # We're ahead of schedule; wait until it's time to resume.\n",
    "                delta = task.waiting_until - now\n",
    "                time.sleep(delta.total_seconds())\n",
    "                now = datetime.datetime.now()\n",
    "            try:\n",
    "                # It's time to resume the coroutine.\n",
    "                wait_until = task.coro.send(now)\n",
    "                heapq.heappush(self._waiting, Task(wait_until, task.coro))\n",
    "            except StopIteration:\n",
    "                # The coroutine is done.\n",
    "                pass\n",
    "\n",
    "\n",
    "@types.coroutine\n",
    "def sleep(seconds):\n",
    "    \"\"\"Pause a coroutine for the specified number of seconds.\n",
    "\n",
    "    Think of this as being like asyncio.sleep()/curio.sleep().\n",
    "    \"\"\"\n",
    "    now = datetime.datetime.now()\n",
    "    wait_until = now + datetime.timedelta(seconds=seconds)\n",
    "    # Make all coroutines on the call stack pause; the need to use `yield`\n",
    "    # necessitates this be generator-based and not an async-based coroutine.\n",
    "    actual = yield wait_until\n",
    "    # Resume the execution stack, sending back how long we actually waited.\n",
    "    return actual - now\n",
    "\n",
    "\n",
    "async def countdown(label, length, *, delay=0):\n",
    "    \"\"\"Countdown a launch for `length` seconds, waiting `delay` seconds.\n",
    "\n",
    "    This is what a user would typically write.\n",
    "    \"\"\"\n",
    "    print(label, 'waiting', delay, 'seconds before starting countdown')\n",
    "    delta = await sleep(delay)\n",
    "    print(label, 'starting after waiting', delta)\n",
    "    while length:\n",
    "        print(label, 'T-minus', length)\n",
    "        waited = await sleep(1)\n",
    "        length -= 1\n",
    "    print(label, 'lift-off!')\n",
    "\n",
    "\n",
    "def main():\n",
    "    \"\"\"Start the event loop, counting down 3 separate launches.\n",
    "\n",
    "    This is what a user would typically write.\n",
    "    \"\"\"\n",
    "    loop = SleepingLoop(countdown('A', 5), countdown('B', 3, delay=2),\n",
    "                        countdown('C', 4, delay=1))\n",
    "    start = datetime.datetime.now()\n",
    "    loop.run_until_complete()\n",
    "    print('Total elapsed time is', datetime.datetime.now() - start)\n",
    "\n",
    "\n",
    "if __name__ == '__main__':\n",
    "    main()"
   ]
  },
  {
   "cell_type": "code",
   "execution_count": 5,
   "metadata": {
    "ExecuteTime": {
     "end_time": "2017-01-24T10:40:25.582618",
     "start_time": "2017-01-24T10:40:25.083964"
    },
    "collapsed": true
   },
   "outputs": [],
   "source": [
    "from ipywidgets import widgets\n",
    "from IPython.display import display, clear_output\n",
    "from jupyterthemes import get_themes\n",
    "from jupyterthemes.stylefx import set_nb_theme\n",
    "\n",
    "def update_theme(change):\n",
    "    \"\"\" display chosen theme from dropdown menu \"\"\"\n",
    "    name = change['new']\n",
    "    html_css = set_nb_theme(name)\n",
    "    display(html_css)\n",
    "\n",
    "themes = get_themes()\n",
    "theme_sel = widgets.Dropdown(options=themes, description='Select a Theme:')\n",
    "theme_sel.observe(update_theme, names=['selected_label'], type='change')"
   ]
  },
  {
   "cell_type": "code",
   "execution_count": null,
   "metadata": {
    "collapsed": true
   },
   "outputs": [],
   "source": []
  }
 ],
 "metadata": {
  "hide_input": false,
  "kernelspec": {
   "display_name": "Python 3",
   "language": "python",
   "name": "python3"
  },
  "language_info": {
   "codemirror_mode": {
    "name": "ipython",
    "version": 3
   },
   "file_extension": ".py",
   "mimetype": "text/x-python",
   "name": "python",
   "nbconvert_exporter": "python",
   "pygments_lexer": "ipython3",
   "version": "3.6.0"
  }
 },
 "nbformat": 4,
 "nbformat_minor": 1
}
