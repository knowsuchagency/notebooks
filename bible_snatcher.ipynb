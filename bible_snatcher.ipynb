{
 "cells": [
  {
   "cell_type": "code",
   "execution_count": 1,
   "metadata": {
    "ExecuteTime": {
     "end_time": "2017-02-03T22:19:56.773082",
     "start_time": "2017-02-03T22:19:56.697668"
    },
    "collapsed": false
   },
   "outputs": [],
   "source": [
    "from collections import namedtuple, ChainMap\n",
    "from flatdict import FlatDict\n",
    "import json\n",
    "\n",
    "def replacew(item):\n",
    "    return {k.replace(' ', '-'):replacew(v)\n",
    "            if isinstance(v, dict)\n",
    "            else v\n",
    "            for k, v in item.items()}\n",
    "\n",
    "class Bible(FlatDict):\n",
    "    \n",
    "    def __init__(self, *args, **kwargs):\n",
    "        super().__init__(*args, **kwargs)\n",
    "        self._versions = set()\n",
    "        self._books = set()\n",
    "        self._chapters = set()\n",
    "        self._verses = {} # a dictionary of bible verses\n",
    "        # Key we can use to look up bible verses later on\n",
    "        Key = namedtuple('Key', ['version', 'book', 'chapter', 'verse'])\n",
    "        for key in self.keys():\n",
    "                splitkey = key.split(':')\n",
    "                if len(splitkey) > 3:\n",
    "                    version, book, chapter, verse = splitkey\n",
    "                    chapter = int(chapter)\n",
    "                    verse = int(verse)\n",
    "                    text = self[key]\n",
    "                    chapter_nt = Bible.Chapter(book, chapter)\n",
    "                    self._books.add(book)\n",
    "                    self._chapters.add(chapter_nt)\n",
    "                    self._verses[Key(version, book, chapter, verse)] = \\\n",
    "                        Bible.Verse(version, book, chapter, verse, text)\n",
    "        \n",
    "    Chapter = namedtuple('Chapter', ['book', 'chapter'])\n",
    "    Verse = namedtuple('Verse', ['version', 'book', 'chapter', 'verse', 'text'])\n",
    "    \n",
    "    @property\n",
    "    def versions(self):\n",
    "        \"\"\"\n",
    "        Return a list of bible versions.\n",
    "        \"\"\"\n",
    "        return list(self._versions)\n",
    "    \n",
    "    @property\n",
    "    def books(self):\n",
    "        \"\"\"\n",
    "        Return a list of books.\n",
    "        \"\"\"\n",
    "        return list(self._books)\n",
    "    \n",
    "    @property\n",
    "    def chapters(self):\n",
    "        \"\"\"\n",
    "        Return a list of chapter namedtuples, each with 'book' and 'chapter' fields.\n",
    "        \"\"\"\n",
    "        return list(self._chapters)\n",
    "    \n",
    "        \n",
    "    def get_verse(self, book, chapter, verse, version='NIV'):\n",
    "        \"\"\"\n",
    "        Return the text for a verse based on the bible version, book, chapter, and verse number.\n",
    "        The version will default to the new international version if not specified.\n",
    "        \n",
    "        i.e. bible.get_verse('Jeremiah', 51, 6) -> '\"Flee from Babylon! Run for your lives! ...'\n",
    "        \"\"\"\n",
    "        lookup = self._verses.get((version, book, chapter, verse))\n",
    "        return lookup.text if lookup is not None else lookup"
   ]
  },
  {
   "cell_type": "code",
   "execution_count": 2,
   "metadata": {
    "ExecuteTime": {
     "end_time": "2017-02-03T22:19:56.959685",
     "start_time": "2017-02-03T22:19:56.775614"
    },
    "collapsed": false
   },
   "outputs": [],
   "source": [
    "if __name__ == \"__main__\":\n",
    "    versions = ('NIV', 'MSG', 'NLT')\n",
    "    path = \"/Users/stephanfitzpatrick/dropbox/projects/pyramid-bibles/pyramid_bibles/static/bibles/{version}/{version}.json\"\n",
    "    paths = [path.format(version=version) for version in versions]\n",
    "    dictionaries = []\n",
    "    for p, v in zip(paths, versions):\n",
    "        with open(p) as foo:\n",
    "            # remove whitespace from dictionary keys\n",
    "            data = replacew(json.load(foo))\n",
    "            # make the bible version the top-level key in the dictionary\n",
    "            data = {v:data}\n",
    "            dictionaries.append(data)\n",
    "    chain = ChainMap(*dictionaries)\n",
    "    bible = Bible(chain)"
   ]
  },
  {
   "cell_type": "code",
   "execution_count": 3,
   "metadata": {
    "ExecuteTime": {
     "end_time": "2017-02-03T22:19:56.999410",
     "start_time": "2017-02-03T22:19:56.961234"
    },
    "collapsed": false,
    "scrolled": true
   },
   "outputs": [
    {
     "data": {
      "text/plain": [
       "{}"
      ]
     },
     "execution_count": 3,
     "metadata": {},
     "output_type": "execute_result"
    }
   ],
   "source": [
    "bible"
   ]
  },
  {
   "cell_type": "code",
   "execution_count": 4,
   "metadata": {
    "ExecuteTime": {
     "end_time": "2017-02-03T22:19:57.010775",
     "start_time": "2017-02-03T22:19:57.004510"
    },
    "collapsed": false,
    "scrolled": true
   },
   "outputs": [
    {
     "data": {
      "text/plain": [
       "[]"
      ]
     },
     "execution_count": 4,
     "metadata": {},
     "output_type": "execute_result"
    }
   ],
   "source": [
    "bible.books"
   ]
  },
  {
   "cell_type": "code",
   "execution_count": 5,
   "metadata": {
    "ExecuteTime": {
     "end_time": "2017-02-03T22:19:57.093205",
     "start_time": "2017-02-03T22:19:57.061487"
    },
    "collapsed": false
   },
   "outputs": [
    {
     "data": {
      "text/plain": [
       "[]"
      ]
     },
     "execution_count": 5,
     "metadata": {},
     "output_type": "execute_result"
    }
   ],
   "source": [
    "bible.chapters[:5]"
   ]
  },
  {
   "cell_type": "code",
   "execution_count": 6,
   "metadata": {
    "ExecuteTime": {
     "end_time": "2017-02-03T22:19:57.115718",
     "start_time": "2017-02-03T22:19:57.106350"
    },
    "collapsed": false
   },
   "outputs": [],
   "source": [
    "bible.get_verse('Psalms', 89, 2)"
   ]
  },
  {
   "cell_type": "code",
   "execution_count": null,
   "metadata": {
    "collapsed": true
   },
   "outputs": [],
   "source": []
  },
  {
   "cell_type": "code",
   "execution_count": null,
   "metadata": {
    "collapsed": true
   },
   "outputs": [],
   "source": []
  }
 ],
 "metadata": {
  "hide_input": false,
  "kernelspec": {
   "display_name": "Python 3",
   "language": "python",
   "name": "python3"
  },
  "language_info": {
   "codemirror_mode": {
    "name": "ipython",
    "version": 3
   },
   "file_extension": ".py",
   "mimetype": "text/x-python",
   "name": "python",
   "nbconvert_exporter": "python",
   "pygments_lexer": "ipython3",
   "version": "3.6.0"
  }
 },
 "nbformat": 4,
 "nbformat_minor": 0
}
