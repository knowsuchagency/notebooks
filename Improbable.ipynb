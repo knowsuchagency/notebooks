{
 "cells": [
  {
   "cell_type": "code",
   "execution_count": 5,
   "metadata": {
    "ExecuteTime": {
     "end_time": "2017-04-18T18:44:18.214407Z",
     "start_time": "2017-04-18T11:44:18.208100-07:00"
    },
    "collapsed": true,
    "deletable": true,
    "editable": true
   },
   "outputs": [],
   "source": [
    "from IPython.display import HTML, SVG, display\n",
    "from splinter import Browser\n",
    "import random"
   ]
  },
  {
   "cell_type": "code",
   "execution_count": 29,
   "metadata": {
    "ExecuteTime": {
     "end_time": "2017-04-18T19:10:38.828112Z",
     "start_time": "2017-04-18T12:10:38.686603-07:00"
    },
    "collapsed": false,
    "deletable": true,
    "editable": true,
    "scrolled": true
   },
   "outputs": [],
   "source": [
    "class Node:\n",
    "    def __init__(self, index, x, y, z, adjacent=None):\n",
    "        self.index = index  # unique node identifier\n",
    "        self.x = x\n",
    "        self.y = y\n",
    "        self.z = z\n",
    "        self.adjacent = set() if adjacent is None else adjacent\n",
    "\n",
    "    def __hash__(self):\n",
    "        return self.index\n",
    "\n",
    "    def __eq__(self, other):\n",
    "        \"\"\"\n",
    "        This will make any two nodes with the same coordinates or the same\n",
    "        index equal to one another.\n",
    "\n",
    "        Having this function defined in conjuction with self.__hash__()\n",
    "        makes it so we can use this class as a key in a Python dictionary\n",
    "        \"\"\"\n",
    "        return self.index == other.index or (self.x, self.y, self.z) == (\n",
    "            other.x, other.y, other.z)\n",
    "\n",
    "    def __ne__(self, other):\n",
    "        return not (self == other)\n",
    "\n",
    "    def __repr__(self):\n",
    "        \"\"\"\n",
    "        Just a convenience function for us to be able to represent the Node in\n",
    "        our shell.\n",
    "        \"\"\"\n",
    "        return \"{}: {}\".format(self.index,\n",
    "                               ','.join(map(str, (self.x, self.y, self.z))))\n",
    "\n",
    "    def connect_to(self, node):\n",
    "        self.adjacent.add(node)\n",
    "\n",
    "\n",
    "class Graph:\n",
    "    def __init__(self, nodes=None):\n",
    "        self.nodes = set() if nodes is None else nodes\n",
    "\n",
    "    def __repr__(self):\n",
    "        \"\"\"\n",
    "        Returns a string displaying the graph as an adjacency list.\n",
    "        \"\"\"\n",
    "        lines = []\n",
    "\n",
    "        for node in sorted(self.nodes, key=lambda n: n.index):\n",
    "            lines.append('{}: {}'.format(node.index, ','.join(\n",
    "                map(str, (n.index for n in node.adjacent)))))\n",
    "\n",
    "        return '\\n'.join(lines)\n",
    "\n",
    "    def __str__(self):\n",
    "        \"\"\"\n",
    "        Represents graph in string format needed by Network visualizer.\n",
    "        \"\"\"\n",
    "\n",
    "        # creates a list of comma-separated x, y, z pairs for each node\n",
    "        coordinates = [\n",
    "            ', '.join(map(str, (n.x, n.y, n.z))) for n in self.nodes\n",
    "        ]\n",
    "\n",
    "        # a collection of comma-separated (from: Node, to: Node) pairs.\n",
    "        # since the Graph is represented as an adjacency list\n",
    "        # with each node having a collection of neighbors as an\n",
    "        # attribute, the comprehension is nested.\n",
    "        edges = [\n",
    "            ', '.join(map(str, (f.index, t.index)))\n",
    "            for f in self.nodes for t in f.adjacent\n",
    "        ]\n",
    "\n",
    "        return '\\n'.join(coordinates) + '\\n\\n' + '\\n'.join(edges)\n",
    "\n",
    "    def add_node(self, node):\n",
    "        if node in self.nodes:\n",
    "            print('node with index {} already exists'.format(node.index))\n",
    "        else:\n",
    "            self.nodes.add(node)\n",
    "\n",
    "    def connect(self, from_, to):\n",
    "        if from_ in self.nodes and to in self.nodes:\n",
    "            for node in self.nodes:\n",
    "                if node == from_:\n",
    "                    node.adjacent.add(to)\n",
    "\n",
    "    def seed(self, n=10):\n",
    "        \"\"\"n: the number of nodes we want to seed the graph with\"\"\"\n",
    "\n",
    "        # populate nodes\n",
    "        self.nodes = {\n",
    "            # insert nodes with random x, y, z coordinates in the\n",
    "            # range(0, 5) - not inclusive\n",
    "            Node(i, *random.sample(range(1, 5), 3))\n",
    "            for i in range(n)\n",
    "        }\n",
    "\n",
    "        # add edges to nodes\n",
    "        for node in self.nodes:\n",
    "            k = random.randrange(len(self.nodes))\n",
    "            adjacent = {n for n in random.sample(self.nodes, k) if n != node}\n",
    "            node.adjacent = adjacent"
   ]
  },
  {
   "cell_type": "code",
   "execution_count": 30,
   "metadata": {
    "ExecuteTime": {
     "end_time": "2017-04-18T19:10:45.457686Z",
     "start_time": "2017-04-18T12:10:40.354301-07:00"
    },
    "collapsed": false,
    "deletable": true,
    "editable": true
   },
   "outputs": [],
   "source": [
    "# create headless browser\n",
    "browser = Browser(driver_name='phantomjs')\n",
    "browser.visit('https://geo.improbable.io/solutions-networkviewer/')"
   ]
  },
  {
   "cell_type": "code",
   "execution_count": 32,
   "metadata": {
    "ExecuteTime": {
     "end_time": "2017-04-18T22:28:07.894718Z",
     "start_time": "2017-04-18T15:28:07.490643-07:00"
    },
    "collapsed": false,
    "deletable": true,
    "editable": true
   },
   "outputs": [
    {
     "data": {
      "image/svg+xml": [
       "<svg class=\"svg-content-responsive\" preserveAspectRatio=\"xMidYMid  meet\" viewBox=\"0 0 100 100\"><circle class=\"point\" cx=\"36.666666666666664\" cy=\"10\" fill=\"rgb(170, 176, 176)\" r=\"0.5\"/><circle class=\"point\" cx=\"10\" cy=\"63.333333333333336\" fill=\"rgb(255, 136, 136)\" r=\"0.5\"/><circle class=\"point\" cx=\"63.33333333333333\" cy=\"63.333333333333336\" fill=\"rgb(0, 255, 255)\" r=\"0.5\"/><circle class=\"point\" cx=\"63.33333333333333\" cy=\"90\" fill=\"rgb(85, 215, 215)\" r=\"0.5\"/><circle class=\"point\" cx=\"36.666666666666664\" cy=\"10\" fill=\"rgb(0, 255, 255)\" r=\"0.5\"/><circle class=\"point\" cx=\"10\" cy=\"36.66666666666667\" fill=\"rgb(170, 176, 176)\" r=\"0.5\"/><circle class=\"point\" cx=\"63.33333333333333\" cy=\"10\" fill=\"rgb(255, 136, 136)\" r=\"0.5\"/><circle class=\"point\" cx=\"63.33333333333333\" cy=\"90\" fill=\"rgb(0, 255, 255)\" r=\"0.5\"/><circle class=\"point\" cx=\"90\" cy=\"63.333333333333336\" fill=\"rgb(255, 136, 136)\" r=\"0.5\"/><circle class=\"point\" cx=\"10\" cy=\"63.333333333333336\" fill=\"rgb(255, 136, 136)\" r=\"0.5\"/><circle class=\"point\" cx=\"90\" cy=\"90\" fill=\"rgb(255, 136, 136)\" r=\"0.5\"/><circle class=\"point\" cx=\"36.666666666666664\" cy=\"10\" fill=\"rgb(85, 215, 215)\" r=\"0.5\"/><circle class=\"point\" cx=\"63.33333333333333\" cy=\"10\" fill=\"rgb(0, 255, 255)\" r=\"0.5\"/><circle class=\"point\" cx=\"36.666666666666664\" cy=\"10\" fill=\"rgb(170, 176, 176)\" r=\"0.5\"/><circle class=\"point\" cx=\"90\" cy=\"63.333333333333336\" fill=\"rgb(0, 255, 255)\" r=\"0.5\"/><path class=\"edge\" d=\"M 36.666666666666664 10 S 24.45136732208323 37.22568366104162 10 63.333333333333336\"/><path class=\"edge\" d=\"M 36.666666666666664 10 S 51.11803398874989 36.10764967229172 63.33333333333333 63.333333333333336\"/><path class=\"edge\" d=\"M 36.666666666666664 10 S 51.18585412256314 49.60471529247895 63.33333333333333 90\"/><path class=\"edge\" d=\"M 36.666666666666664 10 S NaN NaN 36.666666666666664 10\"/><path class=\"edge\" d=\"M 36.666666666666664 10 S 24.217216809816517 24.217216809816513 10 36.66666666666667\"/><path class=\"edge\" d=\"M 36.666666666666664 10 S 50 8.75 63.33333333333333 10\"/><path class=\"edge\" d=\"M 36.666666666666664 10 S 24.45136732208323 37.22568366104162 10 63.333333333333336\"/><path class=\"edge\" d=\"M 36.666666666666664 10 S 50 8.75 63.33333333333333 10\"/><path class=\"edge\" d=\"M 36.666666666666664 10 S NaN NaN 36.666666666666664 10\"/><path class=\"edge\" d=\"M 36.666666666666664 10 S 64.2172168098165 35.78278319018349 90 63.333333333333336\"/><path class=\"edge\" d=\"M 10 63.333333333333336 S 22.215299344583435 36.10764967229172 36.666666666666664 10\"/><path class=\"edge\" d=\"M 10 63.333333333333336 S 8.75 50 10 36.66666666666667\"/><path class=\"edge\" d=\"M 10 63.333333333333336 S 50 62.083333333333336 90 63.333333333333336\"/><path class=\"edge\" d=\"M 10 63.333333333333336 S NaN NaN 10 63.333333333333336\"/><path class=\"edge\" d=\"M 10 63.333333333333336 S 22.215299344583435 36.10764967229172 36.666666666666664 10\"/><path class=\"edge\" d=\"M 63.33333333333333 63.333333333333336 S 48.88196601125011 37.22568366104162 36.666666666666664 10\"/><path class=\"edge\" d=\"M 63.33333333333333 63.333333333333336 S 76.66666666666667 62.083333333333336 90 63.333333333333336\"/><path class=\"edge\" d=\"M 63.33333333333333 63.333333333333336 S 64.58333333333333 76.66666666666667 63.33333333333333 90\"/><path class=\"edge\" d=\"M 63.33333333333333 90 S 48.81414587743686 50.39528470752105 36.666666666666664 10\"/><path class=\"edge\" d=\"M 63.33333333333333 90 S 35.78278319018348 64.21721680981652 10 36.66666666666667\"/><path class=\"edge\" d=\"M 63.33333333333333 90 S 75.7827831901835 75.7827831901835 90 63.333333333333336\"/><path class=\"edge\" d=\"M 63.33333333333333 90 S 48.81414587743686 50.39528470752105 36.666666666666664 10\"/><path class=\"edge\" d=\"M 63.33333333333333 90 S 62.08333333333333 50 63.33333333333333 10\"/><path class=\"edge\" d=\"M 63.33333333333333 90 S 48.81414587743686 50.39528470752105 36.666666666666664 10\"/><path class=\"edge\" d=\"M 36.666666666666664 10 S NaN NaN 36.666666666666664 10\"/><path class=\"edge\" d=\"M 36.666666666666664 10 S 24.45136732208323 37.22568366104162 10 63.333333333333336\"/><path class=\"edge\" d=\"M 36.666666666666664 10 S 51.11803398874989 36.10764967229172 63.33333333333333 63.333333333333336\"/><path class=\"edge\" d=\"M 36.666666666666664 10 S 51.18585412256314 49.60471529247895 63.33333333333333 90\"/><path class=\"edge\" d=\"M 36.666666666666664 10 S 24.217216809816517 24.217216809816513 10 36.66666666666667\"/><path class=\"edge\" d=\"M 36.666666666666664 10 S 51.18585412256314 49.60471529247895 63.33333333333333 90\"/><path class=\"edge\" d=\"M 36.666666666666664 10 S 64.2172168098165 35.78278319018349 90 63.333333333333336\"/><path class=\"edge\" d=\"M 36.666666666666664 10 S 24.45136732208323 37.22568366104162 10 63.333333333333336\"/><path class=\"edge\" d=\"M 36.666666666666664 10 S 64.37339620125563 49.30662475471846 90 90\"/><path class=\"edge\" d=\"M 36.666666666666664 10 S NaN NaN 36.666666666666664 10\"/><path class=\"edge\" d=\"M 36.666666666666664 10 S 50 8.75 63.33333333333333 10\"/><path class=\"edge\" d=\"M 36.666666666666664 10 S 64.2172168098165 35.78278319018349 90 63.333333333333336\"/><path class=\"edge\" d=\"M 63.33333333333333 10 S 50 11.25 36.666666666666664 10\"/><path class=\"edge\" d=\"M 63.33333333333333 10 S 37.55055014314985 37.550550143149856 10 63.333333333333336\"/><path class=\"edge\" d=\"M 63.33333333333333 10 S 64.58333333333333 36.66666666666667 63.33333333333333 63.333333333333336\"/><path class=\"edge\" d=\"M 63.33333333333333 10 S 64.58333333333333 50 63.33333333333333 90\"/><path class=\"edge\" d=\"M 63.33333333333333 10 S 50 11.25 36.666666666666664 10\"/><path class=\"edge\" d=\"M 63.33333333333333 10 S 37.225683661041614 24.45136732208322 10 36.66666666666667\"/><path class=\"edge\" d=\"M 63.33333333333333 10 S 77.78470065541657 36.10764967229172 90 63.333333333333336\"/><path class=\"edge\" d=\"M 63.33333333333333 10 S 77.85252078922981 49.60471529247895 90 90\"/><path class=\"edge\" d=\"M 63.33333333333333 10 S NaN NaN 63.33333333333333 10\"/><path class=\"edge\" d=\"M 63.33333333333333 10 S 50 11.25 36.666666666666664 10\"/><path class=\"edge\" d=\"M 63.33333333333333 90 S 48.81414587743686 50.39528470752105 36.666666666666664 10\"/><path class=\"edge\" d=\"M 63.33333333333333 90 S 36.107649672291714 77.78470065541657 10 63.333333333333336\"/><path class=\"edge\" d=\"M 63.33333333333333 90 S 62.08333333333333 76.66666666666667 63.33333333333333 63.333333333333336\"/><path class=\"edge\" d=\"M 63.33333333333333 90 S 48.81414587743686 50.39528470752105 36.666666666666664 10\"/><path class=\"edge\" d=\"M 63.33333333333333 90 S 35.78278319018348 64.21721680981652 10 36.66666666666667\"/><path class=\"edge\" d=\"M 63.33333333333333 90 S 62.08333333333333 50 63.33333333333333 10\"/><path class=\"edge\" d=\"M 63.33333333333333 90 S 75.7827831901835 75.7827831901835 90 63.333333333333336\"/><path class=\"edge\" d=\"M 63.33333333333333 90 S 48.81414587743686 50.39528470752105 36.666666666666664 10\"/><path class=\"edge\" d=\"M 63.33333333333333 90 S 62.08333333333333 50 63.33333333333333 10\"/><path class=\"edge\" d=\"M 63.33333333333333 90 S 48.81414587743686 50.39528470752105 36.666666666666664 10\"/><path class=\"edge\" d=\"M 63.33333333333333 90 S 75.7827831901835 75.7827831901835 90 63.333333333333336\"/><path class=\"edge\" d=\"M 90 63.333333333333336 S 62.449449856850144 37.550550143149856 36.666666666666664 10\"/><path class=\"edge\" d=\"M 90 63.333333333333336 S 50 64.58333333333334 10 63.333333333333336\"/><path class=\"edge\" d=\"M 90 63.333333333333336 S 76.66666666666667 64.58333333333333 63.33333333333333 63.333333333333336\"/><path class=\"edge\" d=\"M 90 63.333333333333336 S 77.55055014314985 77.55055014314985 63.33333333333333 90\"/><path class=\"edge\" d=\"M 90 63.333333333333336 S 62.449449856850144 37.550550143149856 36.666666666666664 10\"/><path class=\"edge\" d=\"M 90 63.333333333333336 S 49.60471529247895 51.18585412256314 10 36.66666666666667\"/><path class=\"edge\" d=\"M 90 63.333333333333336 S 75.54863267791677 37.22568366104162 63.33333333333333 10\"/><path class=\"edge\" d=\"M 90 63.333333333333336 S 77.55055014314985 77.55055014314985 63.33333333333333 90\"/><path class=\"edge\" d=\"M 90 63.333333333333336 S 91.25 76.66666666666667 90 90\"/><path class=\"edge\" d=\"M 90 63.333333333333336 S 62.449449856850144 37.550550143149856 36.666666666666664 10\"/><path class=\"edge\" d=\"M 90 63.333333333333336 S 62.449449856850144 37.550550143149856 36.666666666666664 10\"/><path class=\"edge\" d=\"M 10 63.333333333333336 S 36.666666666666664 62.083333333333336 63.33333333333333 63.333333333333336\"/><path class=\"edge\" d=\"M 10 63.333333333333336 S 37.225683661041614 75.54863267791677 63.33333333333333 90\"/><path class=\"edge\" d=\"M 10 63.333333333333336 S 35.78278319018348 35.78278319018349 63.33333333333333 10\"/><path class=\"edge\" d=\"M 10 63.333333333333336 S 50 62.083333333333336 90 63.333333333333336\"/><path class=\"edge\" d=\"M 10 63.333333333333336 S 35.78278319018348 35.78278319018349 63.33333333333333 10\"/><path class=\"edge\" d=\"M 10 63.333333333333336 S 50 62.083333333333336 90 63.333333333333336\"/><path class=\"edge\" d=\"M 90 90 S 62.29327046541103 50.69337524528154 36.666666666666664 10\"/><path class=\"edge\" d=\"M 90 90 S 75.7827831901835 77.55055014314985 63.33333333333333 63.333333333333336\"/><path class=\"edge\" d=\"M 90 90 S 76.66666666666667 91.25 63.33333333333333 90\"/><path class=\"edge\" d=\"M 90 90 S 49.30662475471846 64.37339620125564 10 36.66666666666667\"/><path class=\"edge\" d=\"M 90 90 S 75.48081254410353 50.39528470752105 63.33333333333333 10\"/><path class=\"edge\" d=\"M 90 90 S 76.66666666666667 91.25 63.33333333333333 90\"/><path class=\"edge\" d=\"M 90 90 S 88.75 76.66666666666667 90 63.333333333333336\"/><path class=\"edge\" d=\"M 90 90 S 62.29327046541103 50.69337524528154 36.666666666666664 10\"/><path class=\"edge\" d=\"M 90 90 S 75.48081254410353 50.39528470752105 63.33333333333333 10\"/><path class=\"edge\" d=\"M 90 90 S 62.29327046541103 50.69337524528154 36.666666666666664 10\"/><path class=\"edge\" d=\"M 90 90 S 88.75 76.66666666666667 90 63.333333333333336\"/><path class=\"edge\" d=\"M 36.666666666666664 10 S 51.11803398874989 36.10764967229172 63.33333333333333 63.333333333333336\"/><path class=\"edge\" d=\"M 36.666666666666664 10 S NaN NaN 36.666666666666664 10\"/><path class=\"edge\" d=\"M 36.666666666666664 10 S 24.217216809816517 24.217216809816513 10 36.66666666666667\"/><path class=\"edge\" d=\"M 36.666666666666664 10 S 51.18585412256314 49.60471529247895 63.33333333333333 90\"/><path class=\"edge\" d=\"M 63.33333333333333 10 S 50 11.25 36.666666666666664 10\"/><path class=\"edge\" d=\"M 63.33333333333333 10 S 37.55055014314985 37.550550143149856 10 63.333333333333336\"/><path class=\"edge\" d=\"M 63.33333333333333 10 S 64.58333333333333 50 63.33333333333333 90\"/><path class=\"edge\" d=\"M 63.33333333333333 10 S 50 11.25 36.666666666666664 10\"/><path class=\"edge\" d=\"M 63.33333333333333 10 S 37.225683661041614 24.45136732208322 10 36.66666666666667\"/><path class=\"edge\" d=\"M 63.33333333333333 10 S NaN NaN 63.33333333333333 10\"/><path class=\"edge\" d=\"M 63.33333333333333 10 S 64.58333333333333 50 63.33333333333333 90\"/><path class=\"edge\" d=\"M 63.33333333333333 10 S 77.78470065541657 36.10764967229172 90 63.333333333333336\"/><path class=\"edge\" d=\"M 63.33333333333333 10 S 77.85252078922981 49.60471529247895 90 90\"/><path class=\"edge\" d=\"M 63.33333333333333 10 S 77.78470065541657 36.10764967229172 90 63.333333333333336\"/><path class=\"edge\" d=\"M 36.666666666666664 10 S NaN NaN 36.666666666666664 10\"/><path class=\"edge\" d=\"M 36.666666666666664 10 S 24.45136732208323 37.22568366104162 10 63.333333333333336\"/><path class=\"edge\" d=\"M 36.666666666666664 10 S 64.37339620125563 49.30662475471846 90 90\"/><path class=\"edge\" d=\"M 36.666666666666664 10 S 24.45136732208323 37.22568366104162 10 63.333333333333336\"/><path class=\"edge\" d=\"M 90 63.333333333333336 S 76.66666666666667 64.58333333333333 63.33333333333333 63.333333333333336\"/><path class=\"edge\" d=\"M 90 63.333333333333336 S 77.55055014314985 77.55055014314985 63.33333333333333 90\"/><path class=\"edge\" d=\"M 90 63.333333333333336 S 49.60471529247895 51.18585412256314 10 36.66666666666667\"/><path class=\"edge\" d=\"M 90 63.333333333333336 S 75.54863267791677 37.22568366104162 63.33333333333333 10\"/><path class=\"edge\" d=\"M 90 63.333333333333336 S 77.55055014314985 77.55055014314985 63.33333333333333 90\"/><path class=\"edge\" d=\"M 90 63.333333333333336 S 50 64.58333333333334 10 63.333333333333336\"/><path class=\"edge\" d=\"M 90 63.333333333333336 S 91.25 76.66666666666667 90 90\"/><path class=\"edge\" d=\"M 90 63.333333333333336 S 62.449449856850144 37.550550143149856 36.666666666666664 10\"/><path class=\"edge\" d=\"M 90 63.333333333333336 S 75.54863267791677 37.22568366104162 63.33333333333333 10\"/><path class=\"edge\" d=\"M 90 63.333333333333336 S 62.449449856850144 37.550550143149856 36.666666666666664 10\"/></svg>"
      ],
      "text/plain": [
       "<IPython.core.display.SVG object>"
      ]
     },
     "metadata": {},
     "output_type": "display_data"
    }
   ],
   "source": [
    "# create graph and seed it\n",
    "graph = Graph()\n",
    "graph.seed(15)\n",
    "data = str(graph)\n",
    "\n",
    "# input data from graph into 'browser'\n",
    "browser.find_by_id('dataArea').fill(data)\n",
    "browser.find_by_id('process').click()\n",
    "svg = browser.find_by_id('view').html.strip()\n",
    "\n",
    "# display svg\n",
    "display(SVG(svg))"
   ]
  },
  {
   "cell_type": "code",
   "execution_count": null,
   "metadata": {
    "collapsed": true
   },
   "outputs": [],
   "source": []
  }
 ],
 "metadata": {
  "hide_input": false,
  "kernelspec": {
   "display_name": "Python 3",
   "language": "python",
   "name": "python3"
  },
  "language_info": {
   "codemirror_mode": {
    "name": "ipython",
    "version": 3
   },
   "file_extension": ".py",
   "mimetype": "text/x-python",
   "name": "python",
   "nbconvert_exporter": "python",
   "pygments_lexer": "ipython3",
   "version": "3.6.1"
  }
 },
 "nbformat": 4,
 "nbformat_minor": 2
}
