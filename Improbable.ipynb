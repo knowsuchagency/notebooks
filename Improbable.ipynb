{
 "cells": [
  {
   "cell_type": "code",
   "execution_count": 5,
   "metadata": {
    "ExecuteTime": {
     "end_time": "2017-04-18T18:44:18.214407Z",
     "start_time": "2017-04-18T11:44:18.208100-07:00"
    },
    "collapsed": true,
    "deletable": true,
    "editable": true
   },
   "outputs": [],
   "source": [
    "from IPython.display import HTML, SVG, display\n",
    "from splinter import Browser\n",
    "import random"
   ]
  },
  {
   "cell_type": "code",
   "execution_count": 8,
   "metadata": {
    "ExecuteTime": {
     "end_time": "2017-04-18T18:45:57.505426Z",
     "start_time": "2017-04-18T11:45:57.384003-07:00"
    },
    "collapsed": false,
    "deletable": true,
    "editable": true,
    "scrolled": true
   },
   "outputs": [],
   "source": [
    "class Node:\n",
    "    def __init__(self, index, x, y, z, adjacent=None):\n",
    "        self.index = index  # unique node identifier\n",
    "        self.x = x\n",
    "        self.y = y\n",
    "        self.z = z\n",
    "        self.adjacent = set() if adjacent is None else adjacent\n",
    "\n",
    "    def __hash__(self):\n",
    "        return self.index\n",
    "\n",
    "    def __eq__(self, other):\n",
    "        \"\"\"\n",
    "        This will make any two nodes with the same coordinates or the same\n",
    "        index equal to one another.\n",
    "\n",
    "        Having this function defined in conjuction with self.__hash__()\n",
    "        makes it so we can use this class as a key in a Python dictionary\n",
    "        \"\"\"\n",
    "        return self.index == other.index or (self.x, self.y, self.z) == (\n",
    "            other.x, other.y, other.z)\n",
    "\n",
    "    def __ne__(self, other):\n",
    "        return not (self == other)\n",
    "\n",
    "    def __repr__(self):\n",
    "        \"\"\"\n",
    "        Just a convenience function for us to be able to represent the Node in\n",
    "        our shell.\n",
    "        \"\"\"\n",
    "        return \"{}: {}\".format(self.index,\n",
    "                               ','.join(map(str, (self.x, self.y, self.z))))\n",
    "\n",
    "    def connect_to(self, node):\n",
    "        self.adjacent.add(node)\n",
    "\n",
    "\n",
    "class Graph:\n",
    "    def __init__(self, nodes=None):\n",
    "        self.nodes = set() if nodes is None else nodes\n",
    "\n",
    "    def __repr__(self):\n",
    "        \"\"\"\n",
    "        Returns a string displaying the graph as an adjacency list.\n",
    "        \"\"\"\n",
    "        lines = []\n",
    "\n",
    "        for node in sorted(self.nodes, key=lambda n: n.index):\n",
    "            lines.append('{}: {}'.format(node.index, ','.join(\n",
    "                map(str, (n.index for n in node.adjacent)))))\n",
    "\n",
    "        return '\\n'.join(lines)\n",
    "\n",
    "    def __str__(self):\n",
    "        \"\"\"\n",
    "        Represents graph in string format needed by Network visualizer.\n",
    "        \"\"\"\n",
    "\n",
    "        # creates a list of comma-separated x, y, z pairs for each node\n",
    "        coordinates = [\n",
    "            ', '.join(map(str, (n.x, n.y, n.z))) for n in self.nodes\n",
    "        ]\n",
    "\n",
    "        # a collection of comma-separated (from: Node, to: Node) pairs.\n",
    "        # since the Graph is represented as an adjacency list\n",
    "        # with each node having a collection of neighbors as an\n",
    "        # attribute, the comprehension is nested.\n",
    "        edges = [\n",
    "            ', '.join(map(str, (f.index, t.index)))\n",
    "            for f in self.nodes for t in f.adjacent\n",
    "        ]\n",
    "\n",
    "        return '\\n'.join(coordinates) + '\\n\\n' + '\\n'.join(edges)\n",
    "\n",
    "    def add_node(self, node):\n",
    "        if node in self.nodes:\n",
    "            print('node with index {} already exists'.format(node.index))\n",
    "        else:\n",
    "            self.nodes.add(node)\n",
    "\n",
    "    def connect(self, from_, to):\n",
    "        if from_ in self.nodes and to in self.nodes:\n",
    "            for node in self.nodes:\n",
    "                if node == from_:\n",
    "                    node.adjacent.add(to)\n",
    "\n",
    "    def seed(self, n=10):\n",
    "        \"\"\"n: the number of nodes we want to seed the graph with\"\"\"\n",
    "\n",
    "        # populate nodes\n",
    "        self.nodes = {\n",
    "            # insert nodes with random x, y, z coordinates in the\n",
    "            # range(0, 5) - not inclusive\n",
    "            Node(i, *(random.randrange(5) for _ in range(3)))\n",
    "            for i in range(n)\n",
    "        }\n",
    "\n",
    "        # add edges to nodes\n",
    "        for node in self.nodes:\n",
    "            k = random.randrange(len(self.nodes))\n",
    "            adjacent = {n for n in random.sample(self.nodes, k) if n != node}\n",
    "            node.adjacent = adjacent"
   ]
  },
  {
   "cell_type": "code",
   "execution_count": 7,
   "metadata": {
    "ExecuteTime": {
     "end_time": "2017-04-18T18:44:29.825068Z",
     "start_time": "2017-04-18T11:44:18.380368-07:00"
    },
    "collapsed": false,
    "deletable": true,
    "editable": true
   },
   "outputs": [
    {
     "data": {
      "image/svg+xml": [
       "<svg class=\"svg-content-responsive\" preserveAspectRatio=\"xMidYMid  meet\" viewBox=\"0 0 100 100\"><circle class=\"point\" cx=\"90\" cy=\"63.333333333333336\" fill=\"rgb(128, 196, 196)\" r=\"0.5\"/><circle class=\"point\" cx=\"50\" cy=\"90\" fill=\"rgb(191, 166, 166)\" r=\"0.5\"/><circle class=\"point\" cx=\"50\" cy=\"90\" fill=\"rgb(64, 225, 225)\" r=\"0.5\"/><circle class=\"point\" cx=\"50\" cy=\"90\" fill=\"rgb(128, 196, 196)\" r=\"0.5\"/><circle class=\"point\" cx=\"90\" cy=\"90\" fill=\"rgb(128, 196, 196)\" r=\"0.5\"/><circle class=\"point\" cx=\"70\" cy=\"90\" fill=\"rgb(0, 255, 255)\" r=\"0.5\"/><circle class=\"point\" cx=\"10\" cy=\"10\" fill=\"rgb(64, 225, 225)\" r=\"0.5\"/><circle class=\"point\" cx=\"10\" cy=\"63.333333333333336\" fill=\"rgb(255, 136, 136)\" r=\"0.5\"/><circle class=\"point\" cx=\"10\" cy=\"63.333333333333336\" fill=\"rgb(255, 136, 136)\" r=\"0.5\"/><circle class=\"point\" cx=\"70\" cy=\"63.333333333333336\" fill=\"rgb(128, 196, 196)\" r=\"0.5\"/><path class=\"edge\" d=\"M 90 63.333333333333336 S 70.69337524528153 77.70672953458897 50 90\"/><path class=\"edge\" d=\"M 90 63.333333333333336 S 70.69337524528153 77.70672953458897 50 90\"/><path class=\"edge\" d=\"M 90 63.333333333333336 S 70.69337524528153 77.70672953458897 50 90\"/><path class=\"edge\" d=\"M 90 63.333333333333336 S 91.25 76.66666666666667 90 90\"/><path class=\"edge\" d=\"M 90 63.333333333333336 S 81 77.41666666666667 70 90\"/><path class=\"edge\" d=\"M 90 63.333333333333336 S 50 64.58333333333334 10 63.333333333333336\"/><path class=\"edge\" d=\"M 90 63.333333333333336 S 80 64.58333333333334 70 63.333333333333336\"/><path class=\"edge\" d=\"M 50 90 S 69.30662475471847 75.62660379874437 90 63.333333333333336\"/><path class=\"edge\" d=\"M 50 90 S NaN NaN 50 90\"/><path class=\"edge\" d=\"M 50 90 S 60 88.75 70 90\"/><path class=\"edge\" d=\"M 50 90 S 29.306624754718463 77.70672953458897 10 63.333333333333336\"/><path class=\"edge\" d=\"M 50 90 S 29.306624754718463 77.70672953458897 10 63.333333333333336\"/><path class=\"edge\" d=\"M 50 90 S 69.30662475471847 75.62660379874437 90 63.333333333333336\"/><path class=\"edge\" d=\"M 50 90 S 59 75.91666666666667 70 63.333333333333336\"/><path class=\"edge\" d=\"M 50 90 S NaN NaN 50 90\"/><path class=\"edge\" d=\"M 90 90 S 88.75 76.66666666666667 90 63.333333333333336\"/><path class=\"edge\" d=\"M 90 90 S 70 91.25 50 90\"/><path class=\"edge\" d=\"M 90 90 S 70 91.25 50 90\"/><path class=\"edge\" d=\"M 90 90 S 80 91.25 70 90\"/><path class=\"edge\" d=\"M 90 90 S 49.116116523516816 50.883883476483184 10 10\"/><path class=\"edge\" d=\"M 90 90 S 49.60471529247895 77.85252078922981 10 63.333333333333336\"/><path class=\"edge\" d=\"M 90 90 S 49.60471529247895 77.85252078922981 10 63.333333333333336\"/><path class=\"edge\" d=\"M 90 90 S 79 77.41666666666667 70 63.333333333333336\"/><path class=\"edge\" d=\"M 70 90 S 79 75.91666666666667 90 63.333333333333336\"/><path class=\"edge\" d=\"M 70 90 S 60 91.25 50 90\"/><path class=\"edge\" d=\"M 70 90 S 80 88.75 90 90\"/><path class=\"edge\" d=\"M 70 90 S 39 50.75 10 10\"/><path class=\"edge\" d=\"M 10 10 S 11.25 36.66666666666667 10 63.333333333333336\"/><path class=\"edge\" d=\"M 10 10 S 50.69337524528154 35.62660379874437 90 63.333333333333336\"/><path class=\"edge\" d=\"M 10 10 S 50.883883476483184 49.116116523516816 90 90\"/><path class=\"edge\" d=\"M 10 10 S 11.25 36.66666666666667 10 63.333333333333336\"/><path class=\"edge\" d=\"M 10 63.333333333333336 S 30.693375245281537 75.62660379874437 50 90\"/><path class=\"edge\" d=\"M 10 63.333333333333336 S 30.693375245281537 75.62660379874437 50 90\"/><path class=\"edge\" d=\"M 10 63.333333333333336 S 30.693375245281537 75.62660379874437 50 90\"/><path class=\"edge\" d=\"M 10 63.333333333333336 S 50.39528470752105 75.48081254410353 90 90\"/><path class=\"edge\" d=\"M 10 63.333333333333336 S 8.75 36.66666666666667 10 10\"/><path class=\"edge\" d=\"M 10 63.333333333333336 S 40 62.083333333333336 70 63.333333333333336\"/><path class=\"edge\" d=\"M 10 63.333333333333336 S 50 62.083333333333336 90 63.333333333333336\"/><path class=\"edge\" d=\"M 10 63.333333333333336 S 30.693375245281537 75.62660379874437 50 90\"/><path class=\"edge\" d=\"M 10 63.333333333333336 S 50.39528470752105 75.48081254410353 90 90\"/><path class=\"edge\" d=\"M 10 63.333333333333336 S 40.50767308256681 75.52440223089135 70 90\"/><path class=\"edge\" d=\"M 10 63.333333333333336 S 8.75 36.66666666666667 10 10\"/><path class=\"edge\" d=\"M 10 63.333333333333336 S 40 62.083333333333336 70 63.333333333333336\"/><path class=\"edge\" d=\"M 70 63.333333333333336 S 80 62.083333333333336 90 63.333333333333336\"/></svg>"
      ],
      "text/plain": [
       "<IPython.core.display.SVG object>"
      ]
     },
     "metadata": {},
     "output_type": "display_data"
    }
   ],
   "source": [
    "browser = Browser(driver_name='phantomjs')\n",
    "browser.visit('https://geo.improbable.io/solutions-networkviewer/')\n",
    "\n",
    "# create graph and seed it\n",
    "graph = Graph()\n",
    "graph.seed()\n",
    "data = str(graph)\n",
    "\n",
    "# input data from graph into 'browser'\n",
    "browser.find_by_id('dataArea').fill(data)\n",
    "browser.find_by_id('process').click()\n",
    "svg = browser.find_by_id('view').html.strip()\n",
    "\n",
    "display(SVG(svg))"
   ]
  },
  {
   "cell_type": "code",
   "execution_count": null,
   "metadata": {
    "collapsed": true,
    "deletable": true,
    "editable": true
   },
   "outputs": [],
   "source": []
  }
 ],
 "metadata": {
  "hide_input": false,
  "kernelspec": {
   "display_name": "Python 3",
   "language": "python",
   "name": "python3"
  },
  "language_info": {
   "codemirror_mode": {
    "name": "ipython",
    "version": 3
   },
   "file_extension": ".py",
   "mimetype": "text/x-python",
   "name": "python",
   "nbconvert_exporter": "python",
   "pygments_lexer": "ipython3",
   "version": "3.6.1"
  }
 },
 "nbformat": 4,
 "nbformat_minor": 2
}
