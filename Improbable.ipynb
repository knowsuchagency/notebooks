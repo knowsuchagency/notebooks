{
 "cells": [
  {
   "cell_type": "code",
   "execution_count": 6,
   "metadata": {
    "ExecuteTime": {
     "end_time": "2017-04-16T22:58:11.191332Z",
     "start_time": "2017-04-16T15:58:11.179125-07:00"
    },
    "collapsed": true,
    "deletable": true,
    "editable": true
   },
   "outputs": [],
   "source": [
    "from IPython.display import HTML, SVG, display\n",
    "from splinter import Browser\n",
    "import random"
   ]
  },
  {
   "cell_type": "code",
   "execution_count": 2,
   "metadata": {
    "ExecuteTime": {
     "end_time": "2017-04-16T22:35:18.397490Z",
     "start_time": "2017-04-16T15:35:18.270903-07:00"
    },
    "collapsed": false,
    "deletable": true,
    "editable": true,
    "scrolled": true
   },
   "outputs": [],
   "source": [
    "class Node:\n",
    "    def __init__(self, index, x, y, z, adjacent=None):\n",
    "        self.index = index  # unique node identifier\n",
    "        self.x = x\n",
    "        self.y = y\n",
    "        self.z = z\n",
    "        self.adjacent = set() if adjacent is None else adjacent\n",
    "\n",
    "    def __hash__(self):\n",
    "        return self.index\n",
    "\n",
    "    def __eq__(self, other):\n",
    "        \"\"\"\n",
    "        This will make any two nodes with the same coordinates or the same\n",
    "        index equal to one another.\n",
    "\n",
    "        Having this function defined in conjuction with self.__hash__()\n",
    "        makes it so we can use this class as a key in a Python dictionary\n",
    "        \"\"\"\n",
    "        return self.index == other.index or (self.x, self.y, self.z) == (\n",
    "            other.x, other.y, other.z)\n",
    "\n",
    "    def __ne__(self, other):\n",
    "        return not (self == other)\n",
    "\n",
    "    def __repr__(self):\n",
    "        \"\"\"\n",
    "        Just a convenience function for us to be able to represent the Node in\n",
    "        our shell.\n",
    "        \"\"\"\n",
    "        return \"{}: {}\".format(self.index,\n",
    "                               ','.join(map(str, (self.x, self.y, self.z))))\n",
    "\n",
    "    def connect_to(self, node):\n",
    "        self.adjacent.add(node)\n",
    "\n",
    "\n",
    "class Graph:\n",
    "    def __init__(self, nodes=None):\n",
    "        self.nodes = set() if nodes is None else nodes\n",
    "\n",
    "    def __repr__(self):\n",
    "        \"\"\"\n",
    "        Returns a string displaying the graph as an adjacency list.\n",
    "        \"\"\"\n",
    "        lines = []\n",
    "\n",
    "        for node in sorted(self.nodes, key=lambda n: n.index):\n",
    "            lines.append('{}: {}'.format(node.index, ','.join(\n",
    "                map(str, (n.index for n in node.adjacent)))))\n",
    "\n",
    "        return '\\n'.join(lines)\n",
    "\n",
    "    def __str__(self):\n",
    "        \"\"\"\n",
    "        Represents graph in string format needed by Network visualizer.\n",
    "        \"\"\"\n",
    "\n",
    "        # creates a list of comma-separated x, y, z pairs for each node\n",
    "        coordinates = [\n",
    "            ', '.join(map(str, (n.x, n.y, n.z))) for n in self.nodes\n",
    "        ]\n",
    "\n",
    "        # a collection of comma-separated (from: Node, to: Node) pairs.\n",
    "        # since the Graph is represented as an adjacency list\n",
    "        # with each node having a collection of neighbors as an\n",
    "        # attribute, the comprehension is nested.\n",
    "        edges = [\n",
    "            ', '.join(map(str, (f.index, t.index)))\n",
    "            for f in self.nodes for t in f.adjacent\n",
    "        ]\n",
    "\n",
    "        return '\\n'.join(coordinates) + '\\n\\n' + '\\n'.join(edges)\n",
    "\n",
    "    def add_node(self, node):\n",
    "        if node in self.nodes:\n",
    "            print('node with index {} already exists'.format(node.index))\n",
    "        else:\n",
    "            self.nodes.add(node)\n",
    "\n",
    "    def connect(self, from_, to):\n",
    "        if from_ in self.nodes and to in self.nodes:\n",
    "            for node in self.nodes:\n",
    "                if node == from_:\n",
    "                    node.adjacent.add(to)\n",
    "\n",
    "    def seed(self, n=10):\n",
    "        \"\"\"n: the number of nodes we want to seed the graph with\"\"\"\n",
    "\n",
    "        # populate nodes\n",
    "        self.nodes = {\n",
    "            # insert nodes with random x, y, z coordinates in the\n",
    "            # range(0, 5) - not inclusive\n",
    "            Node(i, *(random.randrange(5) for _ in range(3)))\n",
    "            for i in range(n)\n",
    "        }\n",
    "\n",
    "        # add edges to nodes\n",
    "        for node in self.nodes:\n",
    "            k = random.randrange(len(self.nodes))\n",
    "            adjacent = {n for n in random.sample(self.nodes, k) if n != node}\n",
    "            node.adjacent = adjacent\n",
    "\n",
    "\n",
    "graph = Graph()\n",
    "\n",
    "graph.seed()\n",
    "\n",
    "data = str(graph)"
   ]
  },
  {
   "cell_type": "code",
   "execution_count": 7,
   "metadata": {
    "ExecuteTime": {
     "end_time": "2017-04-16T22:58:21.670578Z",
     "start_time": "2017-04-16T15:58:17.470227-07:00"
    },
    "collapsed": false,
    "deletable": true,
    "editable": true
   },
   "outputs": [
    {
     "data": {
      "image/svg+xml": [
       "<svg class=\"svg-content-responsive\" preserveAspectRatio=\"xMidYMid  meet\" viewBox=\"0 0 100 100\"><circle class=\"point\" cx=\"70\" cy=\"10\" fill=\"rgb(64, 225, 225)\" r=\"0.5\"/><circle class=\"point\" cx=\"50\" cy=\"90\" fill=\"rgb(128, 196, 196)\" r=\"0.5\"/><circle class=\"point\" cx=\"70\" cy=\"30\" fill=\"rgb(191, 166, 166)\" r=\"0.5\"/><circle class=\"point\" cx=\"30\" cy=\"30\" fill=\"rgb(255, 136, 136)\" r=\"0.5\"/><circle class=\"point\" cx=\"30\" cy=\"30\" fill=\"rgb(128, 196, 196)\" r=\"0.5\"/><circle class=\"point\" cx=\"70\" cy=\"70\" fill=\"rgb(0, 255, 255)\" r=\"0.5\"/><circle class=\"point\" cx=\"10\" cy=\"70\" fill=\"rgb(128, 196, 196)\" r=\"0.5\"/><circle class=\"point\" cx=\"10\" cy=\"50\" fill=\"rgb(255, 136, 136)\" r=\"0.5\"/><circle class=\"point\" cx=\"90\" cy=\"10\" fill=\"rgb(191, 166, 166)\" r=\"0.5\"/><circle class=\"point\" cx=\"90\" cy=\"10\" fill=\"rgb(128, 196, 196)\" r=\"0.5\"/><path class=\"edge\" d=\"M 70 10 S 61.21267812518167 50.30316953129542 50 90\"/><path class=\"edge\" d=\"M 70 10 S 71.25 20 70 30\"/><path class=\"edge\" d=\"M 70 10 S 50.55901699437495 21.118033988749893 30 30\"/><path class=\"edge\" d=\"M 70 10 S 50.55901699437495 21.118033988749893 30 30\"/><path class=\"edge\" d=\"M 70 10 S 71.25 40 70 70\"/><path class=\"edge\" d=\"M 70 10 S 40.69337524528154 31.040062867922305 10 50\"/><path class=\"edge\" d=\"M 70 10 S 80 8.75 90 10\"/><path class=\"edge\" d=\"M 70 10 S 80 8.75 90 10\"/><path class=\"edge\" d=\"M 50 90 S 68.8819660112501 49.44098300562505 90 10\"/><path class=\"edge\" d=\"M 50 90 S 58.78732187481833 49.69683046870458 70 10\"/><path class=\"edge\" d=\"M 50 90 S 38.81414587743686 60.39528470752105 30 30\"/><path class=\"edge\" d=\"M 50 90 S 38.81414587743686 60.39528470752105 30 30\"/><path class=\"edge\" d=\"M 70 30 S 68.75 20 70 10\"/><path class=\"edge\" d=\"M 70 30 S 50 31.25 30 30\"/><path class=\"edge\" d=\"M 70 30 S 50 31.25 30 30\"/><path class=\"edge\" d=\"M 70 30 S 71.25 50 70 70\"/><path class=\"edge\" d=\"M 70 30 S 40.39528470752105 41.18585412256314 10 50\"/><path class=\"edge\" d=\"M 70 30 S 79.11611652351682 19.116116523516816 90 10\"/><path class=\"edge\" d=\"M 70 30 S 79.11611652351682 19.116116523516816 90 10\"/><path class=\"edge\" d=\"M 30 30 S 59.60471529247895 18.814145877436857 90 10\"/><path class=\"edge\" d=\"M 30 30 S 59.60471529247895 18.814145877436857 90 10\"/><path class=\"edge\" d=\"M 30 30 S NaN NaN 30 30\"/><path class=\"edge\" d=\"M 30 30 S 50.883883476483184 49.116116523516816 70 70\"/><path class=\"edge\" d=\"M 30 30 S 49.44098300562505 18.881966011250107 70 10\"/><path class=\"edge\" d=\"M 30 30 S 41.18585412256314 59.60471529247895 50 90\"/><path class=\"edge\" d=\"M 30 30 S 50.883883476483184 49.116116523516816 70 70\"/><path class=\"edge\" d=\"M 30 30 S 21.118033988749893 50.55901699437495 10 70\"/><path class=\"edge\" d=\"M 30 30 S 20.883883476483184 40.883883476483184 10 50\"/><path class=\"edge\" d=\"M 30 30 S 59.60471529247895 18.814145877436857 90 10\"/><path class=\"edge\" d=\"M 30 30 S 59.60471529247895 18.814145877436857 90 10\"/><path class=\"edge\" d=\"M 70 70 S 60.883883476483184 80.88388347648318 50 90\"/><path class=\"edge\" d=\"M 70 70 S 68.75 50 70 30\"/><path class=\"edge\" d=\"M 70 70 S 49.116116523516816 50.883883476483184 30 30\"/><path class=\"edge\" d=\"M 70 70 S 49.116116523516816 50.883883476483184 30 30\"/><path class=\"edge\" d=\"M 70 70 S 40 71.25 10 70\"/><path class=\"edge\" d=\"M 70 70 S 39.60471529247895 61.18585412256314 10 50\"/><path class=\"edge\" d=\"M 70 70 S 78.81414587743686 39.60471529247895 90 10\"/><path class=\"edge\" d=\"M 70 70 S 78.81414587743686 39.60471529247895 90 10\"/><path class=\"edge\" d=\"M 10 70 S 39.116116523516816 39.116116523516816 70 10\"/><path class=\"edge\" d=\"M 10 70 S 18.881966011250107 49.44098300562505 30 30\"/><path class=\"edge\" d=\"M 10 70 S 18.881966011250107 49.44098300562505 30 30\"/><path class=\"edge\" d=\"M 10 50 S 49.44098300562505 28.881966011250107 90 10\"/><path class=\"edge\" d=\"M 10 50 S 39.60471529247895 38.81414587743686 70 30\"/><path class=\"edge\" d=\"M 10 50 S 19.116116523516816 39.116116523516816 30 30\"/><path class=\"edge\" d=\"M 10 50 S 40.39528470752105 58.81414587743686 70 70\"/><path class=\"edge\" d=\"M 90 10 S 80.88388347648318 20.883883476483184 70 30\"/><path class=\"edge\" d=\"M 90 10 S 60.39528470752105 21.185854122563143 30 30\"/><path class=\"edge\" d=\"M 90 10 S 81.18585412256314 40.39528470752105 70 70\"/><path class=\"edge\" d=\"M 90 10 S 50.55901699437495 31.118033988749893 10 50\"/></svg>"
      ],
      "text/plain": [
       "<IPython.core.display.SVG object>"
      ]
     },
     "metadata": {},
     "output_type": "display_data"
    }
   ],
   "source": [
    "browser = Browser(driver_name='phantomjs')\n",
    "browser.visit('https://geo.improbable.io/solutions-networkviewer/')\n",
    "browser.find_by_id('dataArea').fill(data)\n",
    "browser.find_by_id('process').click()\n",
    "svg = browser.find_by_id('view').html.strip()\n",
    "\n",
    "display(SVG(svg))"
   ]
  },
  {
   "cell_type": "code",
   "execution_count": null,
   "metadata": {
    "collapsed": true
   },
   "outputs": [],
   "source": []
  }
 ],
 "metadata": {
  "hide_input": false,
  "kernelspec": {
   "display_name": "Python 3",
   "language": "python",
   "name": "python3"
  },
  "language_info": {
   "codemirror_mode": {
    "name": "ipython",
    "version": 3
   },
   "file_extension": ".py",
   "mimetype": "text/x-python",
   "name": "python",
   "nbconvert_exporter": "python",
   "pygments_lexer": "ipython3",
   "version": "3.6.1"
  }
 },
 "nbformat": 4,
 "nbformat_minor": 2
}
