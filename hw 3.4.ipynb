{
 "cells": [
  {
   "cell_type": "code",
   "execution_count": 50,
   "metadata": {
    "ExecuteTime": {
     "end_time": "2017-03-16T12:32:48.837493",
     "start_time": "2017-03-16T12:32:48.830407"
    },
    "collapsed": true
   },
   "outputs": [],
   "source": [
    "from sympy import sympify\n",
    "from mpmath import e, log\n",
    "import sympy\n",
    "sympy.init_printing()"
   ]
  },
  {
   "cell_type": "code",
   "execution_count": 8,
   "metadata": {
    "ExecuteTime": {
     "end_time": "2017-03-16T11:35:20.956778",
     "start_time": "2017-03-16T11:35:20.664832"
    },
    "collapsed": false
   },
   "outputs": [
    {
     "data": {
      "image/png": "[encoded data removed]",
      "text/latex": [
       "$$5 e^{x} + 4 x^{2}$$"
      ],
      "text/plain": [
       "   x      2\n",
       "5⋅e  + 4⋅x "
      ]
     },
     "execution_count": 8,
     "metadata": {},
     "output_type": "execute_result"
    },
    {
     "data": {
      "image/png": "[encoded data removed]",
      "text/latex": [
       "$$5 e^{x} \\log{\\left (e \\right )} + 8 x$$"
      ],
      "text/plain": [
       "   x             \n",
       "5⋅e ⋅log(e) + 8⋅x"
      ]
     },
     "execution_count": 8,
     "metadata": {},
     "output_type": "execute_result"
    }
   ],
   "source": [
    "expr = sympy.sympify('5*e**x + 4*x**2')\n",
    "expr\n",
    "expr.diff('x')"
   ]
  },
  {
   "cell_type": "code",
   "execution_count": 12,
   "metadata": {
    "ExecuteTime": {
     "end_time": "2017-03-16T11:48:06.166847",
     "start_time": "2017-03-16T11:48:05.895443"
    },
    "collapsed": false
   },
   "outputs": [
    {
     "data": {
      "image/png": "[encoded data removed]",
      "text/latex": [
       "$$5^{x} + \\frac{8}{x^{3}}$$"
      ],
      "text/plain": [
       " x   8 \n",
       "5  + ──\n",
       "      3\n",
       "     x "
      ]
     },
     "execution_count": 12,
     "metadata": {},
     "output_type": "execute_result"
    },
    {
     "data": {
      "image/png": "[encoded data removed]",
      "text/latex": [
       "$$5^{x} \\log{\\left (5 \\right )} - \\frac{24}{x^{4}}$$"
      ],
      "text/plain": [
       " x          24\n",
       "5 ⋅log(5) - ──\n",
       "             4\n",
       "            x "
      ]
     },
     "execution_count": 12,
     "metadata": {},
     "output_type": "execute_result"
    }
   ],
   "source": [
    "expr = sympify('5**x + 8/x**3')\n",
    "expr\n",
    "expr.diff()"
   ]
  },
  {
   "cell_type": "code",
   "execution_count": 14,
   "metadata": {
    "ExecuteTime": {
     "end_time": "2017-03-16T11:52:04.635073",
     "start_time": "2017-03-16T11:52:04.416837"
    },
    "collapsed": false
   },
   "outputs": [
    {
     "data": {
      "image/png": "[encoded data removed]",
      "text/latex": [
       "$$4 \\cdot 6^{x} - 7 x^{3}$$"
      ],
      "text/plain": [
       "   x      3\n",
       "4⋅6  - 7⋅x "
      ]
     },
     "execution_count": 14,
     "metadata": {},
     "output_type": "execute_result"
    },
    {
     "data": {
      "image/png": "[encoded data removed]",
      "text/latex": [
       "$$4 \\cdot 6^{x} \\log{\\left (6 \\right )} - 21 x^{2}$$"
      ],
      "text/plain": [
       "   x              2\n",
       "4⋅6 ⋅log(6) - 21⋅x "
      ]
     },
     "execution_count": 14,
     "metadata": {},
     "output_type": "execute_result"
    }
   ],
   "source": [
    "expr = sympify('4*6**x - 7*x**3')\n",
    "expr\n",
    "expr.diff()"
   ]
  },
  {
   "cell_type": "code",
   "execution_count": 27,
   "metadata": {
    "ExecuteTime": {
     "end_time": "2017-03-16T12:06:28.439415",
     "start_time": "2017-03-16T12:06:28.058324"
    },
    "collapsed": false
   },
   "outputs": [
    {
     "data": {
      "image/png": "[encoded data removed]",
      "text/latex": [
       "$$7 e^{15 t}$$"
      ],
      "text/plain": [
       "   15⋅t\n",
       "7⋅e    "
      ]
     },
     "execution_count": 27,
     "metadata": {},
     "output_type": "execute_result"
    },
    {
     "data": {
      "image/png": "[encoded data removed]",
      "text/latex": [
       "$$105 e^{15 t} \\log{\\left (e \\right )}$$"
      ],
      "text/plain": [
       "     15⋅t       \n",
       "105⋅e    ⋅log(e)"
      ]
     },
     "execution_count": 27,
     "metadata": {},
     "output_type": "execute_result"
    },
    {
     "data": {
      "image/png": "[encoded data removed]",
      "text/latex": [
       "$$15 \\log{\\left (e \\right )}$$"
      ],
      "text/plain": [
       "15⋅log(e)"
      ]
     },
     "execution_count": 27,
     "metadata": {},
     "output_type": "execute_result"
    }
   ],
   "source": [
    "expr = sympify('7*e**(15*t)')\n",
    "expr\n",
    "der = expr.diff('t')\n",
    "der\n",
    "der / expr"
   ]
  },
  {
   "cell_type": "code",
   "execution_count": 36,
   "metadata": {
    "ExecuteTime": {
     "end_time": "2017-03-16T12:11:47.679864",
     "start_time": "2017-03-16T12:11:47.563068"
    },
    "collapsed": false
   },
   "outputs": [
    {
     "data": {
      "image/png": "[encoded data removed]",
      "text/latex": [
       "$$3 \\log{\\left (3 \\right )}$$"
      ],
      "text/plain": [
       "3⋅log(3)"
      ]
     },
     "execution_count": 36,
     "metadata": {},
     "output_type": "execute_result"
    }
   ],
   "source": [
    "expr = sympify('3**x')\n",
    "expr.diff().subs('x', 1)"
   ]
  },
  {
   "cell_type": "code",
   "execution_count": 51,
   "metadata": {
    "ExecuteTime": {
     "end_time": "2017-03-16T12:32:51.839108",
     "start_time": "2017-03-16T12:32:51.441894"
    },
    "collapsed": false
   },
   "outputs": [
    {
     "data": {
      "image/png": "[encoded data removed]",
      "text/latex": [
       "$$2.71828182845905^{- 9 t}$$"
      ],
      "text/plain": [
       "                -9⋅t\n",
       "2.71828182845905    "
      ]
     },
     "execution_count": 51,
     "metadata": {},
     "output_type": "execute_result"
    },
    {
     "data": {
      "image/png": "[encoded data removed]",
      "text/latex": [
       "$$- 9.0 \\cdot 2.71828182845905^{- 9 t}$$"
      ],
      "text/plain": [
       "                     -9⋅t\n",
       "-9.0⋅2.71828182845905    "
      ]
     },
     "execution_count": 51,
     "metadata": {},
     "output_type": "execute_result"
    },
    {
     "data": {
      "image/png": "[encoded data removed]",
      "text/latex": [
       "$$1$$"
      ],
      "text/plain": [
       "1"
      ]
     },
     "execution_count": 51,
     "metadata": {},
     "output_type": "execute_result"
    },
    {
     "data": {
      "image/png": "[encoded data removed]",
      "text/latex": [
       "$$-9.0$$"
      ],
      "text/plain": [
       "-9.00000000000000"
      ]
     },
     "execution_count": 51,
     "metadata": {},
     "output_type": "execute_result"
    }
   ],
   "source": [
    "t = sympy.symbols('t')\n",
    "expr = e ** (-9*t)\n",
    "expr\n",
    "dt = expr.diff('t')\n",
    "dt\n",
    "y1 = expr.subs(t, 0)\n",
    "y1\n",
    "m = dt.subs(t, 0)\n",
    "m"
   ]
  },
  {
   "cell_type": "code",
   "execution_count": null,
   "metadata": {
    "collapsed": true
   },
   "outputs": [],
   "source": []
  }
 ],
 "metadata": {
  "hide_input": false,
  "kernelspec": {
   "display_name": "Python 3",
   "language": "python",
   "name": "python3"
  },
  "language_info": {
   "codemirror_mode": {
    "name": "ipython",
    "version": 3
   },
   "file_extension": ".py",
   "mimetype": "text/x-python",
   "name": "python",
   "nbconvert_exporter": "python",
   "pygments_lexer": "ipython3",
   "version": "3.6.0"
  }
 },
 "nbformat": 4,
 "nbformat_minor": 2
}
