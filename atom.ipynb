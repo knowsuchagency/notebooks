{
 "cells": [
  {
   "cell_type": "code",
   "execution_count": 1,
   "metadata": {
    "collapsed": true
   },
   "outputs": [],
   "source": [
    "import subprocess\n",
    "import re"
   ]
  },
  {
   "cell_type": "code",
   "execution_count": 2,
   "metadata": {
    "collapsed": false
   },
   "outputs": [],
   "source": [
    "def list_installed_packages():\n",
    "    \n",
    "    patt = re.compile(\"├── (\\w+-?\\w+)@\")\n",
    "    start = False\n",
    "    packages = []\n",
    "    \n",
    "    apm_list = subprocess.run(['apm', 'list',],\n",
    "                              stdout=subprocess.PIPE).stdout.decode().splitlines()\n",
    "    for line in apm_list:\n",
    "        if start:\n",
    "            match = patt.match(line)\n",
    "            if match:\n",
    "                packages.append(match.group(1))\n",
    "        if start is False and \"/Users/\" in line:\n",
    "            start = True\n",
    "    \n",
    "    return packages"
   ]
  },
  {
   "cell_type": "code",
   "execution_count": 3,
   "metadata": {
    "collapsed": false
   },
   "outputs": [
    {
     "data": {
      "text/plain": [
       "['atom-beautify',\n",
       " 'atom-monokai',\n",
       " 'atomatigit',\n",
       " 'file-icons',\n",
       " 'git-plus',\n",
       " 'highlight-selected',\n",
       " 'language-diff',\n",
       " 'linter',\n",
       " 'linter-pylama',\n",
       " 'merge-conflicts',\n",
       " 'minimap',\n",
       " 'minimap-autohide',\n",
       " 'project-manager',\n",
       " 'script']"
      ]
     },
     "execution_count": 3,
     "metadata": {},
     "output_type": "execute_result"
    }
   ],
   "source": [
    "list_installed_packages()"
   ]
  },
  {
   "cell_type": "code",
   "execution_count": null,
   "metadata": {
    "collapsed": true
   },
   "outputs": [],
   "source": []
  }
 ],
 "metadata": {
  "hide_input": false,
  "kernelspec": {
   "display_name": "Python 3",
   "language": "python",
   "name": "python3"
  },
  "language_info": {
   "codemirror_mode": {
    "name": "ipython",
    "version": 3
   },
   "file_extension": ".py",
   "mimetype": "text/x-python",
   "name": "python",
   "nbconvert_exporter": "python",
   "pygments_lexer": "ipython3",
   "version": "3.6.0"
  }
 },
 "nbformat": 4,
 "nbformat_minor": 0
}
