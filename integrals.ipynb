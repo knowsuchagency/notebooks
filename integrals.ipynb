{
 "cells": [
  {
   "cell_type": "code",
   "execution_count": 1,
   "metadata": {
    "ExecuteTime": {
     "end_time": "2017-04-30T19:21:04.828350Z",
     "start_time": "2017-04-30T19:21:03.654159Z"
    }
   },
   "outputs": [],
   "source": [
    "from functools import partial, singledispatch\n",
    "from sympy import sympify\n",
    "from sympy import integrate as _integrate\n",
    "from textwrap import dedent\n",
    "from mpmath import e\n",
    "import sympy\n",
    "\n",
    "sympy.init_printing()\n",
    "\n",
    "def _sum(left_or_right, y_values, delta_x):\n",
    "    \"\"\"\n",
    "    Return the left or right hand sum of a list of y values.\n",
    "    \"\"\"\n",
    "    # make sure y_values is a list\n",
    "    y_values = list(y_values)\n",
    "    \n",
    "    if left_or_right == 'left':\n",
    "        y_values = y_values[:-1]\n",
    "    elif left_or_right == 'right':\n",
    "        y_values = y_values[1:]\n",
    "        \n",
    "    return sum(y*delta_x for y in y_values)\n",
    "\n",
    "lhs = partial(_sum, 'left')\n",
    "rhs = partial(_sum, 'right')\n",
    "\n",
    "@singledispatch\n",
    "def integrate():\n",
    "    pass\n",
    "\n",
    "@integrate.register(dict)        \n",
    "def _(observations, a_b=None, n=None, verbose=False):\n",
    "    \"\"\"\n",
    "    Given a table of x, y values as a dictionary\n",
    "    return the definite integral.\n",
    "    \"\"\"\n",
    "    x_vals = list(observations.keys())\n",
    "    delta_x = x_vals[1]-x_vals[0]\n",
    "    \n",
    "    # n is the number of times we evenly split the observations\n",
    "    # by default, we'll choose the maximum amount of splits possible\n",
    "    \n",
    "    n = len(observations)-1 if n is None else n\n",
    "    \n",
    "    # let a and b be the largest and smallest values\n",
    "    # in our list of x values by default\n",
    "    \n",
    "    if a_b is not None:\n",
    "        a, b = a_b\n",
    "    else:\n",
    "        a = x_vals[0]\n",
    "        b = x_vals[-1]\n",
    "    \n",
    "    # create the list of y values that we will compute\n",
    "    # the right and left hand sums of\n",
    "    start = x_vals.index(a)\n",
    "    stop = x_vals.index(b)+1\n",
    "    step = len(observations) // n    \n",
    "    y_vals = list(observations.values())[start:stop:step]\n",
    "    \n",
    "    # return the average of the left and right hand sums\n",
    "    left_hand_sum = lhs(y_vals, delta_x)\n",
    "    right_hand_sum = rhs(y_vals, delta_x)\n",
    "    result = (left_hand_sum + right_hand_sum) / 2\n",
    "    \n",
    "    if verbose:\n",
    "        print(dedent(f\"\"\"\n",
    "        inputs: {observations}\n",
    "        \n",
    "        a: {a}\n",
    "        b: {b}\n",
    "        n: {n}\n",
    "        delta x: {delta_x}\n",
    "        left hand sum: {left_hand_sum}\n",
    "        right hand sum: {right_hand_sum}\n",
    "        \n",
    "        result: {result}\n",
    "        \"\"\"))\n",
    "    \n",
    "    return result\n",
    "\n",
    "@integrate.register(sympy.Basic)\n",
    "def _(expr, a_b=None):\n",
    "    \"\"\"\n",
    "    Return the integral of a single-variable expression.\n",
    "    \"\"\"\n",
    "    # ensure we replace e variable with constant e in\n",
    "    # expression\n",
    "    expr = expr.subs('e', e)\n",
    "    \n",
    "    \n",
    "    # extract symbol\n",
    "    if a_b is not None:\n",
    "        a, b = a_b\n",
    "        var = list(expr.free_symbols)[0]\n",
    "        return _integrate(expr, (var, a, b))\n",
    "    \n",
    "    return _integrate(expr)\n",
    "\n",
    "@integrate.register(str)\n",
    "def _(expr, a_b=None):\n",
    "    \"\"\"\n",
    "    Return the integral of a single-variable expression.\n",
    "    \"\"\"\n",
    "    return integrate(sympify(expr), a_b=a_b)\n",
    "    \n",
    "    "
   ]
  },
  {
   "cell_type": "code",
   "execution_count": 2,
   "metadata": {
    "ExecuteTime": {
     "end_time": "2017-04-30T19:21:05.669652Z",
     "start_time": "2017-04-30T19:21:04.830361Z"
    }
   },
   "outputs": [
    {
     "name": "stdout",
     "output_type": "stream",
     "text": [
      "\n",
      "inputs: {20: 5, 22: 7, 24: 11, 26: 18, 28: 29, 30: 45}\n",
      "\n",
      "a: 20\n",
      "b: 30\n",
      "n: 5\n",
      "delta x: 2\n",
      "left hand sum: 140\n",
      "right hand sum: 220\n",
      "\n",
      "result: 180.0\n",
      "\n"
     ]
    },
    {
     "data": {
      "image/png": "[encoded data removed]",
      "text/latex": [
       "$$180.0$$"
      ],
      "text/plain": [
       "180.0"
      ]
     },
     "execution_count": 2,
     "metadata": {},
     "output_type": "execute_result"
    }
   ],
   "source": [
    "observations = {20: 5, 22: 7, 24: 11, 26: 18, 28: 29, 30: 45}\n",
    "\n",
    "integrate(observations, verbose=True) # -> 180 "
   ]
  },
  {
   "cell_type": "code",
   "execution_count": 3,
   "metadata": {
    "ExecuteTime": {
     "end_time": "2017-04-30T19:21:05.940856Z",
     "start_time": "2017-04-30T19:21:05.672566Z"
    }
   },
   "outputs": [
    {
     "data": {
      "image/png": "[encoded data removed]",
      "text/latex": [
       "$$x^{2}$$"
      ],
      "text/plain": [
       " 2\n",
       "x "
      ]
     },
     "execution_count": 3,
     "metadata": {},
     "output_type": "execute_result"
    },
    {
     "data": {
      "image/png": "[encoded data removed]",
      "text/latex": [
       "$$100$$"
      ],
      "text/plain": [
       "100"
      ]
     },
     "execution_count": 3,
     "metadata": {},
     "output_type": "execute_result"
    }
   ],
   "source": [
    "integrate('2*x') # -> x**2\n",
    "\n",
    "integrate('2*x', (0, 10)) # -> 100"
   ]
  },
  {
   "cell_type": "code",
   "execution_count": null,
   "metadata": {
    "collapsed": true
   },
   "outputs": [],
   "source": []
  }
 ],
 "metadata": {
  "_draft": {
   "nbviewer_url": "https://gist.github.com/cc8bd636157d804b4aabf0ca8b2bbed9"
  },
  "gist": {
   "data": {
    "description": "right hand sum, left hand sum, and integration example in Python",
    "public": true
   },
   "id": "cc8bd636157d804b4aabf0ca8b2bbed9"
  },
  "hide_input": false,
  "kernelspec": {
   "display_name": "Python 3",
   "language": "python",
   "name": "python3"
  },
  "language_info": {
   "codemirror_mode": {
    "name": "ipython",
    "version": 3
   },
   "file_extension": ".py",
   "mimetype": "text/x-python",
   "name": "python",
   "nbconvert_exporter": "python",
   "pygments_lexer": "ipython3",
   "version": "3.6.1"
  }
 },
 "nbformat": 4,
 "nbformat_minor": 2
}
