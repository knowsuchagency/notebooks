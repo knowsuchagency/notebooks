{
 "cells": [
  {
   "cell_type": "code",
   "execution_count": 105,
   "metadata": {
    "ExecuteTime": {
     "end_time": "2017-04-30T19:06:42.468101Z",
     "start_time": "2017-04-30T19:06:42.144883Z"
    }
   },
   "outputs": [],
   "source": [
    "from functools import partial, singledispatch, wraps\n",
    "from sympy import sympify\n",
    "from sympy import integrate as _integrate\n",
    "from mpmath import e\n",
    "import logging\n",
    "import sympy\n",
    "\n",
    "sympy.init_printing()\n",
    "\n",
    "def coerce(T):\n",
    "    \"\"\"\n",
    "    Coerce the output of the wrapped function to the type\n",
    "    specified by T.\n",
    "    \"\"\"\n",
    "    def outer(f):\n",
    "        @wraps(f)\n",
    "        def inner(*args, **kwargs):\n",
    "            result = f(*args, **kwargs)\n",
    "            try:\n",
    "                return T(result)\n",
    "            except Exception as e:\n",
    "                logging.exception(f'could not coerce {result} to type {T}')\n",
    "                return result\n",
    "        return inner\n",
    "    return outer\n",
    "\n",
    "def _sum(left_or_right, y_values, delta_x):\n",
    "    \"\"\"\n",
    "    Return the left or right hand sum of a list of y values.\n",
    "    \"\"\"\n",
    "    # make sure y_values is a list\n",
    "    y_values = list(y_values)\n",
    "    \n",
    "    if left_or_right == 'left':\n",
    "        y_values = y_values[:-1]\n",
    "    elif left_or_right == 'right':\n",
    "        y_values = y_values[1:]\n",
    "        \n",
    "    return sum(y*delta_x for y in y_values)\n",
    "\n",
    "lhs = partial(_sum, 'left')\n",
    "rhs = partial(_sum, 'right')\n",
    "\n",
    "@singledispatch\n",
    "def integrate():\n",
    "    pass\n",
    "\n",
    "@integrate.register(dict)        \n",
    "def _(observations, a_b=None, n=None):\n",
    "    \"\"\"\n",
    "    Given a table of x, y values as a dictionary\n",
    "    return the definite integral.\n",
    "    \"\"\"\n",
    "    x_vals = list(observations.keys())\n",
    "    delta_x = x_vals[1]-x_vals[0]\n",
    "    \n",
    "    # n is the number of times we evenly split the observations\n",
    "    # by default, we'll choose the maximum amount of splits possible\n",
    "    \n",
    "    n = len(observations)-1 if n is None else n\n",
    "    \n",
    "    # let a and b be the largest and smallest values\n",
    "    # in our list of x values by default\n",
    "    \n",
    "    if a_b is not None:\n",
    "        a, b = a_b\n",
    "    else:\n",
    "        a = x_vals[0]\n",
    "        b = x_vals[-1]\n",
    "    \n",
    "    # create the list of y values that we will compute\n",
    "    # the right and left hand sums of\n",
    "    start = x_vals.index(a)\n",
    "    stop = x_vals.index(b)+1\n",
    "    step = len(observations) // n    \n",
    "    y_vals = list(observations.values())[start:stop:step]\n",
    "    \n",
    "    # return the average of the left and right hand sums\n",
    "    return (lhs(y_vals, delta_x) + rhs(y_vals, delta_x)) / 2\n",
    "\n",
    "@integrate.register(sympy.Basic)\n",
    "@coerce(float)\n",
    "def _(expr, a_b=None):\n",
    "    \"\"\"\n",
    "    Return the integral of a single-variable expression.\n",
    "    \"\"\"\n",
    "    # ensure we replace e variable with constant e in\n",
    "    # expression\n",
    "    expr = expr.subs('e', e)\n",
    "    \n",
    "    \n",
    "    # extract symbol\n",
    "    if a_b is not None:\n",
    "        a, b = a_b\n",
    "        var = list(expr.free_symbols)[0]\n",
    "        return _integrate(expr, (var, a, b))\n",
    "    \n",
    "    return _integrate(expr)\n",
    "\n",
    "@integrate.register(str)\n",
    "def _(expr, a_b=None):\n",
    "    \"\"\"\n",
    "    Return the integral of a single-variable expression.\n",
    "    \"\"\"\n",
    "    return integrate(sympify(expr), a_b=a_b)\n",
    "    \n",
    "    "
   ]
  },
  {
   "cell_type": "code",
   "execution_count": 106,
   "metadata": {
    "ExecuteTime": {
     "end_time": "2017-04-30T19:06:42.935029Z",
     "start_time": "2017-04-30T19:06:42.470789Z"
    }
   },
   "outputs": [
    {
     "data": {
      "image/png": "[encoded data removed]",
      "text/latex": [
       "$$140$$"
      ],
      "text/plain": [
       "140"
      ]
     },
     "execution_count": 106,
     "metadata": {},
     "output_type": "execute_result"
    },
    {
     "data": {
      "image/png": "[encoded data removed]",
      "text/latex": [
       "$$220$$"
      ],
      "text/plain": [
       "220"
      ]
     },
     "execution_count": 106,
     "metadata": {},
     "output_type": "execute_result"
    },
    {
     "data": {
      "image/png": "[encoded data removed]",
      "text/latex": [
       "$$\\left \\{ 20 : 5, \\quad 22 : 7, \\quad 24 : 11, \\quad 26 : 18, \\quad 28 : 29, \\quad 30 : 45\\right \\}$$"
      ],
      "text/plain": [
       "{20: 5, 22: 7, 24: 11, 26: 18, 28: 29, 30: 45}"
      ]
     },
     "execution_count": 106,
     "metadata": {},
     "output_type": "execute_result"
    },
    {
     "data": {
      "image/png": "[encoded data removed]",
      "text/latex": [
       "$$180.0$$"
      ],
      "text/plain": [
       "180.0"
      ]
     },
     "execution_count": 106,
     "metadata": {},
     "output_type": "execute_result"
    }
   ],
   "source": [
    "velocities = [5, 7, 11, 18, 29, 45]\n",
    "\n",
    "lhs(velocities, 2) # -> 140\n",
    "rhs(velocities, 2) # -> 220\n",
    "\n",
    "observations = dict(zip(range(20, 31, 2), velocities))\n",
    "observations # -> {20: 5, 22: 7, 24: 11, 26: 18, 28: 29, 30: 45}\n",
    "\n",
    "integrate(observations) # -> 180 "
   ]
  }
 ],
 "metadata": {
  "_draft": {
   "nbviewer_url": "https://gist.github.com/cc8bd636157d804b4aabf0ca8b2bbed9"
  },
  "gist": {
   "data": {
    "description": "right hand sum, left hand sum, and integration example in Python",
    "public": true
   },
   "id": "cc8bd636157d804b4aabf0ca8b2bbed9"
  },
  "hide_input": false,
  "kernelspec": {
   "display_name": "Python 3",
   "language": "python",
   "name": "python3"
  },
  "language_info": {
   "codemirror_mode": {
    "name": "ipython",
    "version": 3
   },
   "file_extension": ".py",
   "mimetype": "text/x-python",
   "name": "python",
   "nbconvert_exporter": "python",
   "pygments_lexer": "ipython3",
   "version": "3.6.1"
  }
 },
 "nbformat": 4,
 "nbformat_minor": 2
}
