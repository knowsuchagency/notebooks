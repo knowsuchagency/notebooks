{
 "cells": [
  {
   "cell_type": "code",
   "execution_count": 9,
   "metadata": {
    "collapsed": false
   },
   "outputs": [
    {
     "name": "stdout",
     "output_type": "stream",
     "text": [
      "Status:  200\n",
      "Status:  200\n",
      "Status:  200\n",
      "Status:  200\n",
      "Status:  200\n"
     ]
    }
   ],
   "source": [
    "import paco\n",
    "import aiohttp\n",
    "import asyncio\n",
    "\n",
    "async def fetch(url):\n",
    "    async with aiohttp.ClientSession() as session:\n",
    "        async with session.get(url) as res:\n",
    "            return res\n",
    "\n",
    "async def fetch_urls():\n",
    "    urls = [\n",
    "        'https://www.google.com',\n",
    "        'https://www.yahoo.com',\n",
    "        'https://www.bing.com',\n",
    "        'https://www.baidu.com',\n",
    "        'https://duckduckgo.com',\n",
    "    ]\n",
    "\n",
    "    # Map concurrent executor with concurrent limit of 3\n",
    "    responses = await paco.map(fetch, urls, limit=3)\n",
    "\n",
    "    for res in responses:\n",
    "        print(\"Status: \", res.status)\n",
    "    \n",
    "    return responses\n",
    "\n",
    "# Run in event loop\n",
    "results = paco.run(fetch_urls())"
   ]
  },
  {
   "cell_type": "code",
   "execution_count": 14,
   "metadata": {
    "collapsed": false
   },
   "outputs": [],
   "source": [
    "result = results[0]"
   ]
  },
  {
   "cell_type": "code",
   "execution_count": 15,
   "metadata": {
    "collapsed": false
   },
   "outputs": [
    {
     "data": {
      "text/plain": [
       "'https://www.google.com/'"
      ]
     },
     "execution_count": 15,
     "metadata": {},
     "output_type": "execute_result"
    }
   ],
   "source": [
    "result.url"
   ]
  },
  {
   "cell_type": "code",
   "execution_count": null,
   "metadata": {
    "collapsed": true
   },
   "outputs": [],
   "source": []
  }
 ],
 "metadata": {
  "kernelspec": {
   "display_name": "Python 3",
   "language": "python",
   "name": "python3"
  },
  "language_info": {
   "codemirror_mode": {
    "name": "ipython",
    "version": 3
   },
   "file_extension": ".py",
   "mimetype": "text/x-python",
   "name": "python",
   "nbconvert_exporter": "python",
   "pygments_lexer": "ipython3",
   "version": "3.5.1"
  }
 },
 "nbformat": 4,
 "nbformat_minor": 1
}
