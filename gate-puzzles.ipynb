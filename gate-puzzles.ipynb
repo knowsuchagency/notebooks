{
 "cells": [
  {
   "cell_type": "markdown",
   "metadata": {},
   "source": [
    "\"Likeness\" coefficient for two words is measured in percentages using the following rules:\n",
    "- Letter case does not matter (\"A\" == \"a\");\n",
    "- If the first letters of the words are equal, then add 10%;\n",
    "- If the last letters of the words are equal, then add 10%;\n",
    "- Add length comparison as \n",
    "(length_of_word1 / length_of_word2) * 30%, if length_of_word1 ≤ length_of_word2;\n",
    ", else (length_of_word2 / length_of_word1) * 30%\n",
    "- Take all unique letters from the both words in one set and count how many letters appear in the both words. Add to the coefficient (common_letter_number / unique_letters_numbers) * 50;\n",
    "\n",
    "So the maximum coefficient of likeness is 100%. For example: for the words \"Bread\" and \"Beard\".\n",
    "The result should be given in the lower case.\n",
    "Let's look at an example. The message \"Friend Fred and friend Ted.\" First, pick out words - (\"friend\", \"fred\", \"and\", \"friend\", \"ted\"). Next we calculate \"likeness\" for the first word with other. __\"friend\" and \"fred\" have the same first and last letters, so add 20.__ __Then length comparison: the length of \"fred\" is lesser than \"friend\", so add (4/6)*30=20.__ __The last rule: for these words unique letters are \"definr\" and the intersected letters are \"defr\". So add (4/6)*50≈33.333. And the summary is 73.333.__\n",
    "This way we will count all other coefficients and get the following table (results are rounded just for simplicity). The greatest average is 62.976 and the result is \"friend\"."
   ]
  },
  {
   "cell_type": "code",
   "execution_count": 117,
   "metadata": {
    "collapsed": false
   },
   "outputs": [],
   "source": [
    "from __future__ import division\n",
    "import re\n",
    "\n",
    "def likeness(w1, w2):\n",
    "    \"\"\"Return the likeness of two letters.\"\"\"\n",
    "\n",
    "    result = 0\n",
    "    \n",
    "    # add 10% if both words begin with the same letter\n",
    "    if w1[0] == w2[0]:\n",
    "        result += 10\n",
    "    # add 10% if both words end with the same letter\n",
    "    if w1[-1] == w2[-1]:\n",
    "        result += 10\n",
    "        \n",
    "    # compare length\n",
    "    args = (w1, w2)\n",
    "    larger = len(max(args, key=len))\n",
    "    smaller = len(min(args, key=len))\n",
    "    length_coefficient = smaller/larger * 30\n",
    "    result += length_coefficient\n",
    "    \n",
    "    # compare unique letters\n",
    "    unique_letters = len(set(w1+w2))\n",
    "    intersection = len(set(w1).intersection(set(w2)))\n",
    "    unique_coefficient = intersection/unique_letters * 50\n",
    "    result += unique_coefficient\n",
    "    \n",
    "    return result\n",
    "\n",
    "def find_word(message):\n",
    "    map_ = dict()\n",
    "    patt = re.compile(r'[a-z]+')\n",
    "    words = patt.findall(message.lower())\n",
    "    \n",
    "    for word in words:\n",
    "        total_likeness = sum(likeness(word, w) for w in words)        \n",
    "        map_[word] = total_likeness\n",
    "        \n",
    "    return max(map_, key=lambda k: (map_[k], words.index(k)))"
   ]
  },
  {
   "cell_type": "code",
   "execution_count": 119,
   "metadata": {
    "collapsed": false
   },
   "outputs": [],
   "source": [
    "if __name__ == '__main__':\n",
    "    #These \"asserts\" using only for self-checking and not necessary for auto-testing\n",
    "    assert find_word(u\"Speak friend and enter.\") == \"friend\", \"Friend\"\n",
    "    assert find_word(u\"Beard and Bread\") == \"bread\", \"Bread is Beard\"\n",
    "    assert find_word(u\"The Doors of Durin, Lord of Moria. Speak friend and enter. \"\n",
    "                     u\"I Narvi made them. Celebrimbor of Hollin drew these signs\") == \"durin\", \"Durin\"\n",
    "    assert find_word(u\"Aoccdrnig to a rscheearch at Cmabrigde Uinervtisy.\"\n",
    "                     u\" According to a researcher at Cambridge University.\") == \"according\", \"Research\"\n",
    "    assert find_word(u\"One, two, two, three, three, three.\") == \"three\", \"Repeating\"\n"
   ]
  },
  {
   "cell_type": "code",
   "execution_count": null,
   "metadata": {
    "collapsed": true
   },
   "outputs": [],
   "source": []
  }
 ],
 "metadata": {
  "kernelspec": {
   "display_name": "Python 2",
   "language": "python",
   "name": "python2"
  },
  "language_info": {
   "codemirror_mode": {
    "name": "ipython",
    "version": 2
   },
   "file_extension": ".py",
   "mimetype": "text/x-python",
   "name": "python",
   "nbconvert_exporter": "python",
   "pygments_lexer": "ipython2",
   "version": "2.7.10"
  }
 },
 "nbformat": 4,
 "nbformat_minor": 0
}
