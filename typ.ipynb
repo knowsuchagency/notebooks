{
 "cells": [
  {
   "cell_type": "code",
   "execution_count": 1,
   "metadata": {
    "ExecuteTime": {
     "end_time": "2017-03-03T16:47:21.882320",
     "start_time": "2017-03-03T16:47:21.852936"
    },
    "collapsed": false,
    "deletable": true,
    "editable": true,
    "scrolled": true
   },
   "outputs": [
    {
     "name": "stdout",
     "output_type": "stream",
     "text": [
      "Any ideas how to use singledispatch with typing as expected?\n"
     ]
    }
   ],
   "source": [
    "import typing as typ\n",
    "\n",
    "\n",
    "class Apple(typ.NamedTuple('Apple', [('x', int)])):\n",
    "    \n",
    "    def __add__(self, other: 'Apple[int]') -> 'Apple[int]':\n",
    "        return type(self)(self.x + other.x)\n",
    "\n",
    "class Orange:\n",
    "    def __init__(self, x: int) -> None:\n",
    "        self.x = x\n",
    "    \n",
    "    def __add__(self, other: 'Orange') -> 'Orange':\n",
    "        return type(self)(self.x + other.x)\n",
    "\n",
    "apple = Apple(1)\n",
    "orange = Orange(1)\n",
    "\n",
    "\n",
    "assert apple + apple == Apple(2), \"OK, thats fine\"\n",
    "try:\n",
    "    assert apple + orange != Apple(2),  \"That is not correct, obviously!\" \\\n",
    "                                        \"I wish to have TypeError expection here!\"\n",
    "except AssertionError:\n",
    "    print (\"Any ideas how to use singledispatch with typing as expected?\")"
   ]
  },
  {
   "cell_type": "code",
   "execution_count": 5,
   "metadata": {
    "ExecuteTime": {
     "end_time": "2017-03-03T16:48:16.967647",
     "start_time": "2017-03-03T16:48:16.954345"
    },
    "collapsed": false,
    "deletable": true,
    "editable": true
   },
   "outputs": [
    {
     "data": {
      "text/plain": [
       "mappingproxy({'__add__': <function __main__.Apple.__add__>,\n",
       "              '__dict__': <attribute '__dict__' of 'Apple' objects>,\n",
       "              '__doc__': None,\n",
       "              '__module__': '__main__'})"
      ]
     },
     "execution_count": 5,
     "metadata": {},
     "output_type": "execute_result"
    },
    {
     "name": "stdout",
     "output_type": "stream",
     "text": [
      "\n"
     ]
    },
    {
     "data": {
      "text/plain": [
       "mappingproxy({'__add__': <slot wrapper '__add__' of 'tuple' objects>,\n",
       "              '__contains__': <slot wrapper '__contains__' of 'tuple' objects>,\n",
       "              '__doc__': \"tuple() -> empty tuple\\ntuple(iterable) -> tuple initialized from iterable's items\\n\\nIf the argument is a tuple, the return value is the same object.\",\n",
       "              '__eq__': <slot wrapper '__eq__' of 'tuple' objects>,\n",
       "              '__ge__': <slot wrapper '__ge__' of 'tuple' objects>,\n",
       "              '__getattribute__': <slot wrapper '__getattribute__' of 'tuple' objects>,\n",
       "              '__getitem__': <slot wrapper '__getitem__' of 'tuple' objects>,\n",
       "              '__getnewargs__': <method '__getnewargs__' of 'tuple' objects>,\n",
       "              '__gt__': <slot wrapper '__gt__' of 'tuple' objects>,\n",
       "              '__hash__': <slot wrapper '__hash__' of 'tuple' objects>,\n",
       "              '__iter__': <slot wrapper '__iter__' of 'tuple' objects>,\n",
       "              '__le__': <slot wrapper '__le__' of 'tuple' objects>,\n",
       "              '__len__': <slot wrapper '__len__' of 'tuple' objects>,\n",
       "              '__lt__': <slot wrapper '__lt__' of 'tuple' objects>,\n",
       "              '__mul__': <slot wrapper '__mul__' of 'tuple' objects>,\n",
       "              '__ne__': <slot wrapper '__ne__' of 'tuple' objects>,\n",
       "              '__new__': <function tuple.__new__>,\n",
       "              '__repr__': <slot wrapper '__repr__' of 'tuple' objects>,\n",
       "              '__rmul__': <slot wrapper '__rmul__' of 'tuple' objects>,\n",
       "              'count': <method 'count' of 'tuple' objects>,\n",
       "              'index': <method 'index' of 'tuple' objects>})"
      ]
     },
     "execution_count": 5,
     "metadata": {},
     "output_type": "execute_result"
    }
   ],
   "source": [
    "Apple.__dict__\n",
    "\n",
    "print()\n",
    "\n",
    "tuple.__dict__"
   ]
  },
  {
   "cell_type": "code",
   "execution_count": null,
   "metadata": {
    "collapsed": true,
    "deletable": true,
    "editable": true
   },
   "outputs": [],
   "source": []
  }
 ],
 "metadata": {
  "hide_input": false,
  "kernelspec": {
   "display_name": "Python 3",
   "language": "python",
   "name": "python3"
  },
  "language_info": {
   "codemirror_mode": {
    "name": "ipython",
    "version": 3
   },
   "file_extension": ".py",
   "mimetype": "text/x-python",
   "name": "python",
   "nbconvert_exporter": "python",
   "pygments_lexer": "ipython3",
   "version": "3.6.0"
  }
 },
 "nbformat": 4,
 "nbformat_minor": 2
}
