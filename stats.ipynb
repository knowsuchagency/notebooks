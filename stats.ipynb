{
 "cells": [
  {
   "cell_type": "code",
   "execution_count": 35,
   "metadata": {
    "collapsed": false
   },
   "outputs": [],
   "source": [
    "from math import sqrt\n",
    "from functools import reduce\n",
    "from pprint import pprint\n",
    "\n",
    "def mean(numbers):\n",
    "    return sum(numbers)/len(numbers)\n",
    "\n",
    "def standard_deviation(numbers):\n",
    "    mean_ = mean(numbers)\n",
    "    n = len(numbers)\n",
    "    return sqrt(sum((i-mean_)**2 for i in numbers)/n)\n",
    "\n",
    "def z(x, numbers):\n",
    "    \"\"\"Return z score\"\"\"\n",
    "    mean_ = mean(numbers)\n",
    "    return (x-mean_)/standard_deviation(numbers)\n",
    "\n",
    "def pearsons_r(Xx, Xy):\n",
    "    z_scores = [(z(x, Xx), z(y, Xy)) for x in Xx for y in Xy]\n",
    "    # print(\"z_scores=\", z_scores)\n",
    "    n1 = list(x**2 for x, _ in z_scores)\n",
    "    n2 = list(y**2 for _, y in z_scores)\n",
    "    divisor = sqrt(sum(n1)*sum(n2))\n",
    "    print('z_scores')\n",
    "    pprint(z_scores)\n",
    "    print('divisor', divisor)\n",
    "    return sum((x*y) for x, y in z_scores)/divisor"
   ]
  },
  {
   "cell_type": "code",
   "execution_count": 36,
   "metadata": {
    "collapsed": false
   },
   "outputs": [
    {
     "name": "stdout",
     "output_type": "stream",
     "text": [
      "mean(amount) 2.5\n",
      "mean(grades) 6.4\n",
      "standard_deviation(amount) 0.8944271909999159\n",
      "standard_deviation(grades) 1.8547236990991407\n",
      "z_scores\n",
      "[(-0.5590169943749475, 0.32349831961031505),\n",
      " (-0.5590169943749475, -1.8331571444584533),\n",
      " (-0.5590169943749475, 0.8626621856275072),\n",
      " (-0.5590169943749475, 0.8626621856275072),\n",
      " (-0.5590169943749475, -0.21566554640687702),\n",
      " (1.6770509831248424, 0.32349831961031505),\n",
      " (1.6770509831248424, -1.8331571444584533),\n",
      " (1.6770509831248424, 0.8626621856275072),\n",
      " (1.6770509831248424, 0.8626621856275072),\n",
      " (1.6770509831248424, -0.21566554640687702),\n",
      " (-1.118033988749895, 0.32349831961031505),\n",
      " (-1.118033988749895, -1.8331571444584533),\n",
      " (-1.118033988749895, 0.8626621856275072),\n",
      " (-1.118033988749895, 0.8626621856275072),\n",
      " (-1.118033988749895, -0.21566554640687702),\n",
      " (-0.5590169943749475, 0.32349831961031505),\n",
      " (-0.5590169943749475, -1.8331571444584533),\n",
      " (-0.5590169943749475, 0.8626621856275072),\n",
      " (-0.5590169943749475, 0.8626621856275072),\n",
      " (-0.5590169943749475, -0.21566554640687702),\n",
      " (0.5590169943749475, 0.32349831961031505),\n",
      " (0.5590169943749475, -1.8331571444584533),\n",
      " (0.5590169943749475, 0.8626621856275072),\n",
      " (0.5590169943749475, 0.8626621856275072),\n",
      " (0.5590169943749475, -0.21566554640687702)]\n",
      "divisor 25.000000000000004\n",
      "pearsons_r(amount, scores) -1.3877787807814455e-17\n"
     ]
    }
   ],
   "source": [
    "# amount of chocolate bars per week\n",
    "amount = [2, 4, 1.5, 2, 3]\n",
    "# grades for happiness\n",
    "grades = [7, 3, 8, 8, 6]\n",
    "print(\"mean(amount)\", mean(amount))\n",
    "print(\"mean(grades)\", mean(grades))\n",
    "print(\"standard_deviation(amount)\", standard_deviation(amount))\n",
    "print(\"standard_deviation(grades)\", standard_deviation(grades))\n",
    "print(\"pearsons_r(amount, scores)\", pearsons_r(amount, grades))"
   ]
  },
  {
   "cell_type": "code",
   "execution_count": null,
   "metadata": {
    "collapsed": true
   },
   "outputs": [],
   "source": []
  }
 ],
 "metadata": {
  "kernelspec": {
   "display_name": "Python 3",
   "language": "python",
   "name": "python3"
  },
  "language_info": {
   "codemirror_mode": {
    "name": "ipython",
    "version": 3
   },
   "file_extension": ".py",
   "mimetype": "text/x-python",
   "name": "python",
   "nbconvert_exporter": "python",
   "pygments_lexer": "ipython3",
   "version": "3.4.3"
  }
 },
 "nbformat": 4,
 "nbformat_minor": 0
}
