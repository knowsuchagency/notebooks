{
 "cells": [
  {
   "cell_type": "code",
   "execution_count": 7,
   "metadata": {
    "ExecuteTime": {
     "end_time": "2017-02-22T14:34:29.005495",
     "start_time": "2017-02-22T14:34:28.898871"
    },
    "collapsed": false,
    "deletable": true,
    "editable": true
   },
   "outputs": [],
   "source": [
    "from typing import NamedTuple, Optional\n",
    "import requests\n",
    "import logging\n",
    "import enum\n",
    "\n",
    "class Status(enum.Enum):\n",
    "    SUCCESS = 1\n",
    "    ERROR = 2\n",
    "    FAILURE = 3\n",
    "\n",
    "class ApiResponse(NamedTuple):\n",
    "\n",
    "    status: Status\n",
    "    data: Optional[dict]\n",
    "\n",
    "def hit_endpoint(url: str) -> ApiResponse:\n",
    "    \n",
    "    json = None\n",
    "    \n",
    "    try:\n",
    "        response = requests.get(url)\n",
    "        json = response.json()\n",
    "    except Exception as e:\n",
    "        logging.exception('divide by banana')\n",
    "        return ApiResponse(Status.FAILURE, json)\n",
    "    else:\n",
    "        if 'headers' not in json.keys():\n",
    "            logging.error('headers key not found in json')\n",
    "            return ApiResponse(Status.ERROR, json)\n",
    "\n",
    "    return ApiResponse(Status.SUCCESS, json)\n",
    "\n",
    "\n",
    "ApiResponse.from_url = hit_endpoint\n",
    "\n",
    "\n",
    "def test_endpoint_response():\n",
    "    \n",
    "    url = 'http://httpbin.org/headers'\n",
    "    response = ApiResponse.from_url(url)\n",
    "    assert response.status == Status.SUCCESS\n",
    "    assert response.status == hit_endpoint(url).status\n",
    "    assert response.data is not None\n",
    "    \n",
    "    url = 'http://httpbin.org/ip'\n",
    "    response = ApiResponse.from_url(url)\n",
    "    assert response.status == Status.ERROR\n",
    "    assert response.status == hit_endpoint(url).status\n",
    "    assert response.status is not None\n",
    "    \n",
    "    url = 'foo'\n",
    "    response = ApiResponse.from_url(url)\n",
    "    assert response.status == Status.FAILURE\n",
    "    assert response.status == hit_endpoint(url).status\n",
    "    assert response.data is None\n",
    "\n",
    "#test_endpoint_response()"
   ]
  },
  {
   "cell_type": "code",
   "execution_count": null,
   "metadata": {
    "collapsed": true,
    "deletable": true,
    "editable": true
   },
   "outputs": [],
   "source": []
  }
 ],
 "metadata": {
  "hide_input": false,
  "kernelspec": {
   "display_name": "Python 3",
   "language": "python",
   "name": "python3"
  },
  "language_info": {
   "codemirror_mode": {
    "name": "ipython",
    "version": 3
   },
   "file_extension": ".py",
   "mimetype": "text/x-python",
   "name": "python",
   "nbconvert_exporter": "python",
   "pygments_lexer": "ipython3",
   "version": "3.6.0"
  }
 },
 "nbformat": 4,
 "nbformat_minor": 2
}
