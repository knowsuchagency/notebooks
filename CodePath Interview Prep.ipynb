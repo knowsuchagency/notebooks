{
 "cells": [
  {
   "cell_type": "markdown",
   "metadata": {},
   "source": [
    "# Unit 1"
   ]
  },
  {
   "cell_type": "markdown",
   "metadata": {},
   "source": [
    "## Challenge 1 - Deleting duplicates from a sorted array\n",
    "This problem is concerned with deleting repeated elements from a sorted array.\n",
    "\n",
    "Write a program which takes as input a sorted int[] and updates it such that:\n",
    "\n",
    "all duplicates have been removed and\n",
    "all remaining valid elements have been shifted left to fill the emptied indices\n",
    "all remaining empty indices have values set to 0\n",
    "the function returns the number of remaining valid elements (the array size minus the number of removed elements)\n",
    "For example, given an input array with the values {2,3,5,5,7,11,11,11,11,13}, after the function completes, the values in the array should be {2,3,5,7,11,13,0,0,0}, and the function should return 6.\n",
    "\n",
    "Hint: There is an O(n) time and O(1) space solution.\n",
    "\n"
   ]
  },
  {
   "cell_type": "code",
   "execution_count": 108,
   "metadata": {
    "collapsed": false
   },
   "outputs": [
    {
     "data": {
      "text/plain": [
       "[2, 3, 5, 7, 11, 13, 0, 0, 0, 0]"
      ]
     },
     "execution_count": 108,
     "metadata": {},
     "output_type": "execute_result"
    }
   ],
   "source": [
    "def de_duplicate(array: list):\n",
    "    \n",
    "    # print('old array:', array)\n",
    "    \n",
    "    # get length of the original array\n",
    "    original_array_length = len(array)\n",
    "    \n",
    "    # create a new array without duplicates\n",
    "    # we could use a set but we'll do it manually\n",
    "    for el in array:\n",
    "        while array.count(el) > 1:\n",
    "            array.remove(el)\n",
    "\n",
    "    # append 0 to the new array till it's the same length as the original\n",
    "    while len(array) < original_array_length:\n",
    "        array.append(0)\n",
    "    \n",
    "    # print('new array:', array)\n",
    "    \n",
    "    return array\n",
    "    \n",
    "    \n",
    "    \n",
    "    \n",
    "de_duplicate([2,3,5,5,7,11,11,11,11,13])     "
   ]
  },
  {
   "cell_type": "markdown",
   "metadata": {},
   "source": [
    "## Challenge 2 - Enumerate all primes <= n\n",
    "A prime number (or a prime) is an integer greater than 1 that has no positive divisors other than 1 and itself.\n",
    "\n",
    "Write a program which takes as input an int value n and returns an array of int containing all unique primes <= n.\n",
    "\n",
    "Example: if the value of n is 8, the function should return: {2,3,5,7}\n",
    "\n",
    "Hint: One well-known algorithm for doing this is over 2,000 years old, but it's not the most efficient.\n",
    "\n",
    "Remember, you are not allowed to use any primality testing functions."
   ]
  },
  {
   "cell_type": "code",
   "execution_count": 109,
   "metadata": {
    "collapsed": false
   },
   "outputs": [
    {
     "data": {
      "text/plain": [
       "[2, 3, 5, 7]"
      ]
     },
     "execution_count": 109,
     "metadata": {},
     "output_type": "execute_result"
    }
   ],
   "source": [
    "def is_prime(n):\n",
    "    \"\"\"\n",
    "    This isn't computationally efficient but it's good enough\n",
    "    \"\"\"\n",
    "    if n % 2 == 0 and n > 2: \n",
    "        return False\n",
    "    return all(n % i for i in range(3, int(n/2) + 1, 2))\n",
    "\n",
    "def get_primes(n):\n",
    "    \"\"\"\n",
    "    Return all the prime numbers greater than 1 in range n\n",
    "    \"\"\"\n",
    "    return list(i for i in range(2, n) if is_prime(i))\n",
    "\n",
    "get_primes(8)"
   ]
  },
  {
   "cell_type": "markdown",
   "metadata": {},
   "source": [
    "## Challenge 3 - Spiral Order\n",
    "A matrix is a two-dimensional array of r rows, each with c columns, such that the total number of elements in the matrix is r * c.\n",
    "\n",
    "The spiral order of such a matrix is the list of all its elements starting at index (0, 0) and proceeding in clockwise order from the outermost values to innermost values.\n",
    "\n",
    "Write a program that takes an int[][] matrix as its input and returns an int[] of all the input's values in spiral order.\n",
    "\n",
    "Example: Given the following matrix:\n",
    "\n",
    "```java\n",
    "int[][] matrix = {\n",
    "  { 1, 2, 3 },\n",
    "  { 4, 5, 6 },\n",
    "  { 7, 8, 9 }\n",
    "};\n",
    "```\n",
    "\n",
    "Your program should return {1,2,3,6,9,8,7,4,5}\n",
    "\n"
   ]
  },
  {
   "cell_type": "code",
   "execution_count": 110,
   "metadata": {
    "collapsed": false
   },
   "outputs": [
    {
     "data": {
      "text/plain": [
       "[1, 2, 3, 4, 5, 6, 7, 8, 9]"
      ]
     },
     "execution_count": 110,
     "metadata": {},
     "output_type": "execute_result"
    }
   ],
   "source": [
    "def get_spiral(matrix):\n",
    "    for row in matrix:\n",
    "        for col in row:\n",
    "            yield col\n",
    "        \n",
    "s = get_spiral([\n",
    "  [ 1, 2, 3 ],\n",
    "  [ 4, 5, 6 ],\n",
    "  [ 7, 8, 9 ]\n",
    "])\n",
    "\n",
    "list(s)"
   ]
  },
  {
   "cell_type": "markdown",
   "metadata": {},
   "source": [
    "## Challenge 4 - Palindrome detection\n",
    "A palindrome is a word, phrase, or sequence of characters that reads the same backward as forward, e.g., madam or nurses run.\n",
    "\n",
    "Write a program which takes a String as input and returns a boolean value which is true if the input is a palindrome and false if it is not, considering only alphanumeric characters and ignoring case.\n",
    "\n",
    "Example:\n",
    "\n",
    "\"A man, a plan, a canal: Panama\" is a palindrome and should return true\n",
    "\"race a car\" is not a palindrome and should return false"
   ]
  },
  {
   "cell_type": "code",
   "execution_count": 111,
   "metadata": {
    "collapsed": false
   },
   "outputs": [
    {
     "data": {
      "text/plain": [
       "True"
      ]
     },
     "execution_count": 111,
     "metadata": {},
     "output_type": "execute_result"
    }
   ],
   "source": [
    "def is_palindrome(string: str) -> bool:\n",
    "    \n",
    "    # return true if any strings are 0 or 1 in length\n",
    "    if len(string) < 2:\n",
    "        return True\n",
    "        \n",
    "    if len(string) % 2 == 0:\n",
    "        first_half = string[:len(string)//2]\n",
    "    else:\n",
    "        first_half = string[:len(string)//2+1]\n",
    "    \n",
    "    \n",
    "    second_half = string[-1:len(string)//2-1:-1]\n",
    "        \n",
    "    # print('first half:', first_half)\n",
    "    # print('second half:', second_half)\n",
    "    \n",
    "    return first_half == second_half\n",
    "    \n",
    "    \n",
    "is_palindrome('adda')\n",
    "    \n",
    "    "
   ]
  },
  {
   "cell_type": "markdown",
   "metadata": {},
   "source": [
    "## Challenge 5 - Longest Palindromic Substring\n",
    "Write a program which takes a String as input and returns a String which is the longest palindromic substring in the input, given the following assumptions about the input string:\n",
    "\n",
    "its maximum length is 1000\n",
    "it contains one unique, longest palindromic substring\n",
    "Examples:\n",
    "\n",
    "\"abdbabbdba\" should return \"abdba\"\n",
    "\"abdbbbbdba\" should return \"abdbbbbdba\"\n"
   ]
  },
  {
   "cell_type": "code",
   "execution_count": 112,
   "metadata": {
    "collapsed": false,
    "scrolled": true
   },
   "outputs": [
    {
     "data": {
      "text/plain": [
       "'abdbbbbdba'"
      ]
     },
     "execution_count": 112,
     "metadata": {},
     "output_type": "execute_result"
    }
   ],
   "source": [
    "def largest_palindrome(string: str) -> str:\n",
    "    length = len(string)\n",
    "    \n",
    "    # get all possible substrings\n",
    "    substrings = (string[x: y+1] for x in range(length) for y in range(x, length))\n",
    "    \n",
    "    # return the largest palindrome in substrings\n",
    "    return max((s for s in substrings if is_palindrome(s)), key=len)\n",
    "    \n",
    "largest_palindrome(\"abdbbbbdba\")"
   ]
  },
  {
   "cell_type": "markdown",
   "metadata": {},
   "source": [
    "## Challenge 6 - Longest Common Prefix\n",
    "Write a program which takes a String[] as input and returns a String which is the longest common prefix, or an empty string if there is none.\n",
    "\n",
    "Examples:\n",
    "\n",
    "{\"bceefgh\", \"bcfghijk\", \"bcefgh\"} should return \"bc\"\n",
    "{\"abcdefgh\", \"aefghijk\", \"abcefgh\"} should return \"a\"\n",
    "{\"\", \"aefghijk\", \"abcefgh\"} should return \"\""
   ]
  },
  {
   "cell_type": "code",
   "execution_count": 113,
   "metadata": {
    "collapsed": false
   },
   "outputs": [
    {
     "name": "stdout",
     "output_type": "stream",
     "text": [
      "bc\n",
      "a\n",
      "\n"
     ]
    }
   ],
   "source": [
    "def longest_prefix(*strings):\n",
    "    \n",
    "    # exit early if any strings are empty\n",
    "    if not all(strings):\n",
    "        return ''\n",
    "    \n",
    "    prefix = ''\n",
    "    first_string = strings[0]\n",
    "    count = 0\n",
    "    \n",
    "    while all(s[count]==first_string[count] for s in strings):\n",
    "        prefix += first_string[count]\n",
    "        count += 1\n",
    "    \n",
    "    return prefix\n",
    "\n",
    "print(longest_prefix(\"bceefgh\", \"bcfghijk\", \"bcefgh\"))\n",
    "print(longest_prefix(\"abcdefgh\", \"aefghijk\", \"abcefgh\"))\n",
    "print(longest_prefix(\"\", \"aefghijk\", \"abcefgh\"))"
   ]
  },
  {
   "cell_type": "code",
   "execution_count": null,
   "metadata": {
    "collapsed": true
   },
   "outputs": [],
   "source": []
  }
 ],
 "metadata": {
  "kernelspec": {
   "display_name": "Python 3",
   "language": "python",
   "name": "python3"
  },
  "language_info": {
   "codemirror_mode": {
    "name": "ipython",
    "version": 3
   },
   "file_extension": ".py",
   "mimetype": "text/x-python",
   "name": "python",
   "nbconvert_exporter": "python",
   "pygments_lexer": "ipython3",
   "version": "3.5.1"
  }
 },
 "nbformat": 4,
 "nbformat_minor": 1
}
