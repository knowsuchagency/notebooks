{
 "cells": [
  {
   "cell_type": "code",
   "execution_count": 1,
   "metadata": {
    "collapsed": true
   },
   "outputs": [],
   "source": [
    "from collections import namedtuple\n",
    "from pprint import pprint"
   ]
  },
  {
   "cell_type": "code",
   "execution_count": 7,
   "metadata": {
    "collapsed": false
   },
   "outputs": [
    {
     "data": {
      "text/plain": [
       "['3', '7', '4', '6', '9']"
      ]
     },
     "execution_count": 7,
     "metadata": {},
     "output_type": "execute_result"
    }
   ],
   "source": [
    "Triangle = namedtuple('Triangle', ['top', 'left', 'right'])\n",
    "\n",
    "triangle_string = \"\"\"75\n",
    "95 64\n",
    "17 47 82\n",
    "18 35 87 10\n",
    "20 04 82 47 65\n",
    "19 01 23 75 03 34\n",
    "88 02 77 73 07 63 67\n",
    "99 65 04 28 06 16 70 92\n",
    "41 41 26 56 83 40 80 70 33\n",
    "41 48 72 33 47 32 37 16 94 29\n",
    "53 71 44 65 25 43 91 52 97 51 14\n",
    "70 11 33 28 77 73 17 78 39 68 17 57\n",
    "91 71 52 38 17 14 91 43 58 50 27 29 48\n",
    "63 66 04 68 89 53 67 30 73 16 69 87 40 31\n",
    "04 62 98 27 23 09 70 98 73 93 38 53 60 04 23\"\"\"\n",
    "\n",
    "triangle_string = \"\"\"3\n",
    "7 4\n",
    "2 4 6\n",
    "8 5 9 3\"\"\"\n",
    "\n",
    "triangle_lines = [line.split() for line in triangle_string.split('\\n')]\n",
    "# pprint(triangle_lines)\n",
    "\n",
    "triangles = []\n",
    "for l_index, line in enumerate(triangle_lines):\n",
    "    if l_index == len(triangle_lines) - 1:\n",
    "        break\n",
    "    else:\n",
    "        for i_index, item in enumerate(line):\n",
    "            # print(l_index, i_index, item)\n",
    "            next_line = triangle_lines[l_index+1]\n",
    "            triangle = Triangle(item, next_line[i_index], next_line[i_index+1])\n",
    "            triangles.append(triangle)\n",
    "\n",
    "            \n",
    "def eval_path(triangle):\n",
    "    \"\"\"won't work if right and left are equal\"\"\"\n",
    "    sum_1 = triangle.top + triangle.left\n",
    "    sum_2 = triangle.top + triangle.right\n",
    "    if sum_1 > sum_2:\n",
    "        return (triangle.top, triangle.left)\n",
    "    elif sum_2 > sum_1:\n",
    "        return (triangle.top, triangle.right)\n",
    "    \n",
    "# pprint(triangles)\n",
    "path = []\n",
    "for triangle in triangles:\n",
    "    if not path:\n",
    "        path.extend(eval_path(triangle))\n",
    "    elif triangle.top == path[-1]:\n",
    "        path.append(eval_path(triangle)[1])\n",
    "        \n",
    "path\n"
   ]
  },
  {
   "cell_type": "code",
   "execution_count": null,
   "metadata": {
    "collapsed": true
   },
   "outputs": [],
   "source": []
  }
 ],
 "metadata": {
  "kernelspec": {
   "display_name": "Python 3",
   "language": "python",
   "name": "python3"
  },
  "language_info": {
   "codemirror_mode": {
    "name": "ipython",
    "version": 3
   },
   "file_extension": ".py",
   "mimetype": "text/x-python",
   "name": "python",
   "nbconvert_exporter": "python",
   "pygments_lexer": "ipython3",
   "version": "3.4.3"
  }
 },
 "nbformat": 4,
 "nbformat_minor": 0
}
