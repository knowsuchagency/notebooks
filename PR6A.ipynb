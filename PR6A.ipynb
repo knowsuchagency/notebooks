{
 "cells": [
  {
   "cell_type": "code",
   "execution_count": 29,
   "metadata": {
    "collapsed": false
   },
   "outputs": [],
   "source": [
    "a = 275000 + 475000 # net income + total expenses\n",
    "b = 475000 - 100000 - 20000 - 25000 # total expenses - ...\n",
    "c = 0 # retained earnings start at 0 since it's the first month\n",
    "d = 275000 # net income\n",
    "e = 275000 - 125000 # net income - dividends\n",
    "f = e # first month thus retained earnings = increase in retained earnings\n",
    "g = 462500 + 12500 + 150000 # assets = sum((cash, supplies, land,))\n",
    "h = f # retained earnings\n",
    "i = 375000 + h # total stockholder's equity = capital stock + retained earnings\n",
    "j = i + 100000 # stockholder's equity + liabilities"
   ]
  },
  {
   "cell_type": "code",
   "execution_count": 34,
   "metadata": {
    "collapsed": false
   },
   "outputs": [
    {
     "data": {
      "text/plain": [
       "47200"
      ]
     },
     "execution_count": 34,
     "metadata": {},
     "output_type": "execute_result"
    }
   ],
   "source": [
    "accts_rcvbl = 32400 - (9500-400)\n",
    "accts_rcvbl\n",
    "total_eqip = 18500 - 3700\n",
    "total_eqip\n",
    "total_assets = 32400 + 14800\n",
    "total_assets"
   ]
  },
  {
   "cell_type": "code",
   "execution_count": 39,
   "metadata": {
    "collapsed": false
   },
   "outputs": [
    {
     "name": "stdout",
     "output_type": "stream",
     "text": [
      "22600\n"
     ]
    },
    {
     "data": {
      "text/plain": [
       "17550"
      ]
     },
     "execution_count": 39,
     "metadata": {},
     "output_type": "execute_result"
    }
   ],
   "source": [
    "expenses = 43800 - 21200\n",
    "print(expenses)\n",
    "expenses - 2000 - 1200 - 1850"
   ]
  },
  {
   "cell_type": "code",
   "execution_count": 47,
   "metadata": {
    "collapsed": false
   },
   "outputs": [
    {
     "data": {
      "text/plain": [
       "18200"
      ]
     },
     "execution_count": 47,
     "metadata": {},
     "output_type": "execute_result"
    }
   ],
   "source": [
    "equity = 47200 - 6400\n",
    "equity\n",
    "ret = 40800 - 7500\n",
    "ret - 15100 "
   ]
  },
  {
   "cell_type": "code",
   "execution_count": null,
   "metadata": {
    "collapsed": true
   },
   "outputs": [],
   "source": []
  }
 ],
 "metadata": {
  "kernelspec": {
   "display_name": "Python 3",
   "language": "python",
   "name": "python3"
  },
  "language_info": {
   "codemirror_mode": {
    "name": "ipython",
    "version": 3
   },
   "file_extension": ".py",
   "mimetype": "text/x-python",
   "name": "python",
   "nbconvert_exporter": "python",
   "pygments_lexer": "ipython3",
   "version": "3.5.1"
  }
 },
 "nbformat": 4,
 "nbformat_minor": 0
}
