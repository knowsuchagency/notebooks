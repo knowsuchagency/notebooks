{
 "cells": [
  {
   "cell_type": "code",
   "execution_count": 22,
   "metadata": {
    "ExecuteTime": {
     "end_time": "2017-03-19T00:09:57.463888Z",
     "start_time": "2017-03-18T17:09:57.433802-07:00"
    },
    "collapsed": false,
    "deletable": true,
    "editable": true
   },
   "outputs": [],
   "source": [
    "from IPython.core.magic import register_cell_magic\n",
    "\n",
    "\n",
    "@register_cell_magic\n",
    "def typecheck(line, cell):\n",
    "    \"\"\"\n",
    "    Run the following cell though mypy.\n",
    "    \n",
    "    Any parameters that would normally be passed to the mypy cli\n",
    "    can be passed on the first line i.e.\n",
    "    \n",
    "    %%mypy --ignore-missing-imports\n",
    "    \n",
    "    ...\n",
    "    \n",
    "    mypy stdout and stderr will print prior to output of cell. If there are no conflicts,\n",
    "    cell will run as normal.\n",
    "    \"\"\"\n",
    "    \n",
    "    from IPython import get_ipython\n",
    "    from mypy import api\n",
    "    \n",
    "    mypy_result = api.run(line.split() + ['-c', cell])\n",
    "    \n",
    "    if mypy_result[0]: # print mypy stdout\n",
    "        print(mypy_result[0])\n",
    "        \n",
    "    if mypy_result[1]: # print mypy stderr\n",
    "        print(mypy_result[1])\n",
    "    \n",
    "    shell = get_ipython()\n",
    "    shell.run_cell(cell)"
   ]
  },
  {
   "cell_type": "code",
   "execution_count": 12,
   "metadata": {
    "ExecuteTime": {
     "end_time": "2017-03-18T23:54:08.201305Z",
     "start_time": "2017-03-18T16:54:07.558705-07:00"
    },
    "collapsed": false,
    "deletable": true,
    "editable": true
   },
   "outputs": [
    {
     "data": {
      "image/png": "[encoded data removed]",
      "text/latex": [
       "$$\\sqrt{e^{3}}$$"
      ],
      "text/plain": [
       "   ____\n",
       "  ╱  3 \n",
       "╲╱  e  "
      ]
     },
     "execution_count": 12,
     "metadata": {},
     "output_type": "execute_result"
    },
    {
     "data": {
      "image/png": "[encoded data removed]",
      "text/latex": [
       "$$5$$"
      ],
      "text/plain": [
       "5"
      ]
     },
     "execution_count": 12,
     "metadata": {},
     "output_type": "execute_result"
    }
   ],
   "source": [
    "from sympy import sympify, init_printing\n",
    "init_printing()\n",
    "\n",
    "expr = sympify('(e**3)**(1/2)')\n",
    "expr\n",
    "\n",
    "five = 5\n",
    "five"
   ]
  },
  {
   "cell_type": "code",
   "execution_count": 23,
   "metadata": {
    "ExecuteTime": {
     "end_time": "2017-03-20T00:19:16.344279Z",
     "start_time": "2017-03-19T17:19:14.463956-07:00"
    },
    "collapsed": false,
    "deletable": true,
    "editable": true
   },
   "outputs": [
    {
     "name": "stdout",
     "output_type": "stream",
     "text": [
      "<string>:7: error: Incompatible types in assignment (expression has type \"str\", variable has type \"int\")\n",
      "\n"
     ]
    },
    {
     "data": {
      "image/png": "[encoded data removed]",
      "text/latex": [
       "$$\\sqrt{e^{3}}$$"
      ],
      "text/plain": [
       "   ____\n",
       "  ╱  3 \n",
       "╲╱  e  "
      ]
     },
     "execution_count": 23,
     "metadata": {},
     "output_type": "execute_result"
    },
    {
     "data": {
      "image/png": "[encoded data removed]",
      "text/latex": [
       "$$5$$"
      ],
      "text/plain": [
       "5"
      ]
     },
     "execution_count": 23,
     "metadata": {},
     "output_type": "execute_result"
    }
   ],
   "source": [
    "%%typecheck --ignore-missing-imports\n",
    "\n",
    "from sympy import sympify, init_printing\n",
    "init_printing()\n",
    "\n",
    "integer: int\n",
    "    \n",
    "integer = \"mypy won't like this\"\n",
    "\n",
    "expr = sympify('(e**3)**(1/2)')\n",
    "expr\n",
    "\n",
    "five = 5\n",
    "five"
   ]
  },
  {
   "cell_type": "code",
   "execution_count": 20,
   "metadata": {
    "ExecuteTime": {
     "end_time": "2017-03-19T00:01:40.478350Z",
     "start_time": "2017-03-18T17:01:40.466941-07:00"
    },
    "collapsed": false,
    "deletable": true,
    "editable": true
   },
   "outputs": [],
   "source": [
    "import mypy\n",
    "mypy?"
   ]
  },
  {
   "cell_type": "code",
   "execution_count": null,
   "metadata": {
    "collapsed": true,
    "deletable": true,
    "editable": true
   },
   "outputs": [],
   "source": []
  }
 ],
 "metadata": {
  "hide_input": false,
  "kernelspec": {
   "display_name": "Python 3",
   "language": "python",
   "name": "python3"
  },
  "language_info": {
   "codemirror_mode": {
    "name": "ipython",
    "version": 3
   },
   "file_extension": ".py",
   "mimetype": "text/x-python",
   "name": "python",
   "nbconvert_exporter": "python",
   "pygments_lexer": "ipython3",
   "version": "3.6.0"
  }
 },
 "nbformat": 4,
 "nbformat_minor": 2
}
