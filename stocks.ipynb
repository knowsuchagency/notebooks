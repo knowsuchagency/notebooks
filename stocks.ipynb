{
 "cells": [
  {
   "cell_type": "code",
   "execution_count": 9,
   "metadata": {
    "ExecuteTime": {
     "end_time": "2017-04-25T03:52:23.993850Z",
     "start_time": "2017-04-25T03:52:23.903433Z"
    }
   },
   "outputs": [
    {
     "name": "stdout",
     "output_type": "stream",
     "text": [
      "profit: 0 max price: 2 current price: 2\n",
      "profit: 1 max price: 2 current price: 1\n",
      "profit: 1 max price: 3 current price: 3\n",
      "profit: 3 max price: 3 current price: 1\n"
     ]
    },
    {
     "data": {
      "text/plain": [
       "(3, [1, 0, 1, 0])"
      ]
     },
     "execution_count": 9,
     "metadata": {},
     "output_type": "execute_result"
    },
    {
     "name": "stdout",
     "output_type": "stream",
     "text": [
      "profit: 0 max price: 100 current price: 100\n",
      "profit: 98 max price: 100 current price: 2\n",
      "profit: 197 max price: 100 current price: 1\n"
     ]
    },
    {
     "data": {
      "text/plain": [
       "(197, [1, 1, 0])"
      ]
     },
     "execution_count": 9,
     "metadata": {},
     "output_type": "execute_result"
    },
    {
     "name": "stdout",
     "output_type": "stream",
     "text": [
      "profit: 0 max price: 2 current price: 2\n",
      "profit: 0 max price: 3 current price: 3\n",
      "profit: 0 max price: 5 current price: 5\n"
     ]
    },
    {
     "data": {
      "text/plain": [
       "(0, [0, 0, 0])"
      ]
     },
     "execution_count": 9,
     "metadata": {},
     "output_type": "execute_result"
    },
    {
     "name": "stdout",
     "output_type": "stream",
     "text": [
      "profit: 0 max price: 1 current price: 1\n",
      "profit: 0 max price: 4 current price: 4\n",
      "profit: 2 max price: 4 current price: 2\n",
      "profit: 2 max price: 126 current price: 126\n",
      "profit: 5 max price: 126 current price: 123\n",
      "profit: 87 max price: 126 current price: 44\n",
      "profit: 210 max price: 126 current price: 3\n",
      "profit: 303 max price: 126 current price: 33\n",
      "profit: 394 max price: 126 current price: 35\n",
      "profit: 517 max price: 126 current price: 3\n",
      "profit: 517 max price: 312 current price: 312\n",
      "profit: 798 max price: 312 current price: 31\n"
     ]
    },
    {
     "data": {
      "text/plain": [
       "(798, [1, 0, 1, 1, 1, 1, 1, 1, 0, 1, 0, 0])"
      ]
     },
     "execution_count": 9,
     "metadata": {},
     "output_type": "execute_result"
    }
   ],
   "source": [
    "def calcprofit(stockvalues): \n",
    "    decisions = [1 for _ in range(len(stockvalues))] # 1 for buy, 0 for sell\n",
    "    profit = 0\n",
    "    maximum_price = 0\n",
    "    for time, current_price in reversed(list(enumerate(stockvalues))):\n",
    "        #ai=stockvalues[i] # shorthand name\n",
    "        #print((i, ai), end=' ')\n",
    "        if maximum_price < current_price:\n",
    "            decisions[time] = 0\n",
    "            maximum_price = current_price\n",
    "        profit += maximum_price - current_price\n",
    "        print('profit:', profit, 'max price:', maximum_price, 'current price:', current_price)\n",
    "    return (profit,decisions)\n",
    "\n",
    "\n",
    "calcprofit([1,3,1,2]) #gives (3, [1, 0, 1, 0])\n",
    "calcprofit([1,2,100]) #gives (197, [1, 1, 0])\n",
    "calcprofit([5,3,2])   #gives (0, [0, 0, 0])\n",
    "calcprofit([31,312,3,35,33,3,44,123,126,2,4,1]) #gives (798, [1, 0, 1, 1, 1, 1, 1, 1, 0, 1, 0, 0])"
   ]
  },
  {
   "cell_type": "code",
   "execution_count": 13,
   "metadata": {
    "ExecuteTime": {
     "end_time": "2017-04-25T04:05:19.252767Z",
     "start_time": "2017-04-25T04:05:19.215268Z"
    }
   },
   "outputs": [
    {
     "data": {
      "text/plain": [
       "3"
      ]
     },
     "execution_count": 13,
     "metadata": {},
     "output_type": "execute_result"
    },
    {
     "data": {
      "text/plain": [
       "197"
      ]
     },
     "execution_count": 13,
     "metadata": {},
     "output_type": "execute_result"
    },
    {
     "data": {
      "text/plain": [
       "0"
      ]
     },
     "execution_count": 13,
     "metadata": {},
     "output_type": "execute_result"
    },
    {
     "data": {
      "text/plain": [
       "798"
      ]
     },
     "execution_count": 13,
     "metadata": {},
     "output_type": "execute_result"
    }
   ],
   "source": [
    "def calcprofit(prices):\n",
    "    \"\"\"\n",
    "    Return the maximum profit from a given set of prices\n",
    "    \"\"\"\n",
    "    max_price = 0\n",
    "    profit = 0\n",
    "    for price in reversed(prices):\n",
    "        if price > max_price:\n",
    "            max_price = price\n",
    "        profit += max_price - price\n",
    "    return profit\n",
    "\n",
    "\n",
    "calcprofit([1,3,1,2]) # -> 3\n",
    "calcprofit([1,2,100]) # -> 197\n",
    "calcprofit([5,3,2]) # -> 0\n",
    "calcprofit([31,312,3,35,33,3,44,123,126,2,4,1]) # -> 798"
   ]
  },
  {
   "cell_type": "code",
   "execution_count": null,
   "metadata": {
    "collapsed": true
   },
   "outputs": [],
   "source": []
  }
 ],
 "metadata": {
  "hide_input": false,
  "kernelspec": {
   "display_name": "Python 3",
   "language": "python",
   "name": "python3"
  },
  "language_info": {
   "codemirror_mode": {
    "name": "ipython",
    "version": 3
   },
   "file_extension": ".py",
   "mimetype": "text/x-python",
   "name": "python",
   "nbconvert_exporter": "python",
   "pygments_lexer": "ipython3",
   "version": "3.6.1"
  }
 },
 "nbformat": 4,
 "nbformat_minor": 2
}
