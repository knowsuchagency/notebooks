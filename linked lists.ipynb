{
 "cells": [
  {
   "cell_type": "code",
   "execution_count": 193,
   "metadata": {
    "collapsed": false
   },
   "outputs": [],
   "source": [
    "class Node:\n",
    "    \"\"\"\n",
    "    A simple implementation of a linked list.\n",
    "    \"\"\"\n",
    "    \n",
    "    def __init__(self, value):\n",
    "        \"\"\"\n",
    "        Dumb initializer\n",
    "        \"\"\"\n",
    "        self.set_value(value)\n",
    "        self._next = None\n",
    "        \n",
    "    def __repr__(self):\n",
    "        return \"Node({})\".format(self.value)\n",
    "    \n",
    "    def __str__(self):\n",
    "        return self.__repr__()\n",
    "    \n",
    "    def set_value(self, value):\n",
    "        \"\"\"\n",
    "        Value setter.\n",
    "        \"\"\"\n",
    "        self.value = value\n",
    "    \n",
    "    def set_next(self, next_node):\n",
    "        \"\"\"\n",
    "        Next setter\n",
    "        \"\"\"\n",
    "        self._next = next_node\n",
    "    \n",
    "    def __iter__(self):\n",
    "        \"\"\"\n",
    "        Yield self, then continue yielding nodes until they no longer have a next node.\n",
    "        \"\"\"\n",
    "        yield self\n",
    "        next_node = next(self)\n",
    "        while next_node:\n",
    "            yield next_node\n",
    "            next_node = next(next_node)\n",
    "    \n",
    "    def __next__(self):\n",
    "        \"\"\"\n",
    "        Yield node._next if not None else raise StopIteration\n",
    "        \"\"\"\n",
    "        if self._next is None:\n",
    "            raise StopIteration\n",
    "        return self._next\n",
    "            \n",
    "    def __int__(self):\n",
    "        \"\"\"\n",
    "        This function tells the Python interpreter how to coerce the node into an integer.\n",
    "        \"\"\"\n",
    "        total = 0\n",
    "        for i, node in enumerate(self):\n",
    "            total += node.value * 10**i\n",
    "        return total\n",
    "    \n",
    "    def __add__(self, other):\n",
    "        \"\"\"\n",
    "        This function tell the interpreter how to add two nodes using the '+' sign.\n",
    "        \n",
    "        One linked list will simply be extended by the other.\n",
    "        \"\"\"\n",
    "        last = None\n",
    "        for node in self:\n",
    "            last = node\n",
    "        for node in other:\n",
    "            last.set_next(node)\n",
    "            last = next(last)\n",
    "        return self\n",
    "    \n",
    "    @classmethod\n",
    "    def from_iterable(cls, iterable):\n",
    "        \"\"\"\n",
    "        Linked list factory function.\n",
    "        \n",
    "        Creates linked list from iterable and returns the head.\n",
    "        \"\"\"\n",
    "        node = None\n",
    "        for i, value in enumerate(iterable):\n",
    "            # initialize head\n",
    "            if i == 0:\n",
    "                node = cls(value)\n",
    "                head = node\n",
    "                continue\n",
    "            # extend the head\n",
    "            node.set_next(cls(value))\n",
    "            node = next(node)\n",
    "        return head"
   ]
  },
  {
   "cell_type": "code",
   "execution_count": 194,
   "metadata": {
    "collapsed": false
   },
   "outputs": [
    {
     "name": "stdout",
     "output_type": "stream",
     "text": [
      "[Node(1), Node(2), Node(3), Node(4)]\n"
     ]
    },
    {
     "data": {
      "text/plain": [
       "4321"
      ]
     },
     "execution_count": 194,
     "metadata": {},
     "output_type": "execute_result"
    }
   ],
   "source": [
    "n = Node.from_iterable(range(1, 5))\n",
    "print(list(n))\n",
    "int(n)"
   ]
  },
  {
   "cell_type": "code",
   "execution_count": 195,
   "metadata": {
    "collapsed": false
   },
   "outputs": [
    {
     "name": "stdout",
     "output_type": "stream",
     "text": [
      "[Node(1),\n",
      " Node(2),\n",
      " Node(3),\n",
      " Node(4),\n",
      " Node(5),\n",
      " Node(6),\n",
      " Node(7),\n",
      " Node(8),\n",
      " Node(9),\n",
      " Node(10)]\n",
      "\n",
      "10987764197\n"
     ]
    },
    {
     "data": {
      "text/plain": [
       "[Node(7), Node(9), Node(11), Node(13), Node(15)]"
      ]
     },
     "execution_count": 195,
     "metadata": {},
     "output_type": "execute_result"
    }
   ],
   "source": [
    "from pprint import pprint\n",
    "\n",
    "n1 = Node.from_iterable(range(1, 6))\n",
    "n2 = Node.from_iterable(range(6, 11))\n",
    "\n",
    "# add two linked lists normally\n",
    "pprint(list(n1 + n2))\n",
    "print()\n",
    "# coerce linked lists into integers then add\n",
    "print( int(n1) + (int(n2)))\n",
    "\n",
    "n3 = Node.from_iterable(map(lambda n: n[0].value + n[1].value, zip(n1, n2)))\n",
    "list(n3)"
   ]
  },
  {
   "cell_type": "code",
   "execution_count": 251,
   "metadata": {
    "collapsed": false
   },
   "outputs": [],
   "source": [
    "from string import ascii_lowercase\n",
    "\n",
    "class WordCounter:\n",
    "    def __init__(self, string):\n",
    "        self.string = string\n",
    "    \n",
    "    @property\n",
    "    def words(self):\n",
    "        \"\"\"\n",
    "        Yield words stripping whitespace and punctuation\n",
    "        \"\"\"\n",
    "        word = \"\"\n",
    "        for character in self.string.lower():\n",
    "            if character not in ascii_lowercase and word:\n",
    "                yield word\n",
    "                word = \"\"\n",
    "            elif character in ascii_lowercase:\n",
    "                word += character\n",
    "        if word:\n",
    "            yield word\n",
    "    \n",
    "    @property\n",
    "    def count(self):\n",
    "        \"\"\"\n",
    "        Return a dictionary with the words as keys and how many times they show up as the values.\n",
    "\n",
    "        \"\"\"\n",
    "        result = dict()\n",
    "        words = word_getter(self.string)\n",
    "        for word in words:\n",
    "            result.setdefault(word, 0)\n",
    "            result[word] += 1\n",
    "        return result\n",
    "    \n",
    "    @property\n",
    "    def multimap(self):\n",
    "        \"\"\"\n",
    "        reverse a counter dictionary\n",
    "        \"\"\"\n",
    "        result = dict()\n",
    "        for key, value in self.count.items():\n",
    "            result.setdefault(value, []).extend([key])\n",
    "        return result"
   ]
  },
  {
   "cell_type": "code",
   "execution_count": 252,
   "metadata": {
    "collapsed": false
   },
   "outputs": [
    {
     "data": {
      "text/plain": [
       "str"
      ]
     },
     "execution_count": 252,
     "metadata": {},
     "output_type": "execute_result"
    }
   ],
   "source": [
    "lorem_ipsum = \"\"\"\n",
    "Lorem ipsum dolor sit amet, consectetur adipiscing elit. Nunc fermentum nibh ut tellus iaculis, sed feugiat libero pharetra. Aenean et neque ut turpis feugiat porttitor quis non urna. Sed vitae tristique magna. Morbi nec metus eget mauris venenatis volutpat. Suspendisse semper rutrum augue, sit amet tristique mi fermentum sed. Proin ac efficitur ante. Quisque malesuada pulvinar tristique. Nunc rutrum rutrum ex, a gravida nisl lobortis ut.\n",
    "\n",
    "Nunc blandit ultricies urna, at tempor enim blandit et. Donec ut maximus elit, in tincidunt mauris. In vel maximus mauris, sed finibus augue. Donec pulvinar posuere congue. Nulla facilisi. Nulla aliquam facilisis risus in.\n",
    "\"\"\"\n",
    "type(lorem_ipsum)"
   ]
  },
  {
   "cell_type": "code",
   "execution_count": 254,
   "metadata": {
    "collapsed": false,
    "scrolled": true
   },
   "outputs": [
    {
     "data": {
      "text/plain": [
       "{1: ['adipiscing',\n",
       "  'proin',\n",
       "  'facilisi',\n",
       "  'quisque',\n",
       "  'aenean',\n",
       "  'at',\n",
       "  'porttitor',\n",
       "  'ipsum',\n",
       "  'iaculis',\n",
       "  'tellus',\n",
       "  'consectetur',\n",
       "  'metus',\n",
       "  'neque',\n",
       "  'enim',\n",
       "  'nec',\n",
       "  'nibh',\n",
       "  'quis',\n",
       "  'semper',\n",
       "  'ultricies',\n",
       "  'a',\n",
       "  'dolor',\n",
       "  'risus',\n",
       "  'tempor',\n",
       "  'venenatis',\n",
       "  'libero',\n",
       "  'morbi',\n",
       "  'lobortis',\n",
       "  'volutpat',\n",
       "  'malesuada',\n",
       "  'congue',\n",
       "  'efficitur',\n",
       "  'gravida',\n",
       "  'lorem',\n",
       "  'ac',\n",
       "  'pharetra',\n",
       "  'non',\n",
       "  'nisl',\n",
       "  'magna',\n",
       "  'vel',\n",
       "  'vitae',\n",
       "  'facilisis',\n",
       "  'aliquam',\n",
       "  'finibus',\n",
       "  'ex',\n",
       "  'turpis',\n",
       "  'eget',\n",
       "  'mi',\n",
       "  'ante',\n",
       "  'posuere',\n",
       "  'suspendisse',\n",
       "  'tincidunt'],\n",
       " 2: ['blandit',\n",
       "  'fermentum',\n",
       "  'augue',\n",
       "  'feugiat',\n",
       "  'urna',\n",
       "  'nulla',\n",
       "  'sit',\n",
       "  'pulvinar',\n",
       "  'elit',\n",
       "  'et',\n",
       "  'maximus',\n",
       "  'donec',\n",
       "  'amet'],\n",
       " 3: ['rutrum', 'in', 'nunc', 'mauris', 'tristique'],\n",
       " 4: ['ut', 'sed']}"
      ]
     },
     "execution_count": 254,
     "metadata": {},
     "output_type": "execute_result"
    }
   ],
   "source": [
    "counter = WordCounter(lorem_ipsum)\n",
    "counter.multimap"
   ]
  },
  {
   "cell_type": "code",
   "execution_count": 260,
   "metadata": {
    "collapsed": false
   },
   "outputs": [
    {
     "data": {
      "text/plain": [
       "['h',\n",
       " 'he',\n",
       " 'hel',\n",
       " 'hell',\n",
       " 'hello',\n",
       " 'e',\n",
       " 'el',\n",
       " 'ell',\n",
       " 'ello',\n",
       " 'l',\n",
       " 'll',\n",
       " 'llo',\n",
       " 'l',\n",
       " 'lo',\n",
       " 'o']"
      ]
     },
     "execution_count": 260,
     "metadata": {},
     "output_type": "execute_result"
    }
   ],
   "source": [
    "def substrings(string):\n",
    "    length = len(string)\n",
    "    for i in range(length):\n",
    "        for j in range(i, length):\n",
    "            yield string[i:j+1]\n",
    "\n",
    "list(substrings(\"hello\"))"
   ]
  },
  {
   "cell_type": "code",
   "execution_count": null,
   "metadata": {
    "collapsed": true
   },
   "outputs": [],
   "source": []
  },
  {
   "cell_type": "code",
   "execution_count": null,
   "metadata": {
    "collapsed": true
   },
   "outputs": [],
   "source": []
  }
 ],
 "metadata": {
  "kernelspec": {
   "display_name": "Python 3",
   "language": "python",
   "name": "python3"
  },
  "language_info": {
   "codemirror_mode": {
    "name": "ipython",
    "version": 3
   },
   "file_extension": ".py",
   "mimetype": "text/x-python",
   "name": "python",
   "nbconvert_exporter": "python",
   "pygments_lexer": "ipython3",
   "version": "3.5.1"
  }
 },
 "nbformat": 4,
 "nbformat_minor": 1
}
